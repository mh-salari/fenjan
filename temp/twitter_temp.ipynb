{
 "cells": [
  {
   "cell_type": "code",
   "execution_count": null,
   "id": "7b58df1b",
   "metadata": {},
   "outputs": [],
   "source": [
    "# https://towardsdatascience.com/how-to-extract-data-from-the-twitter-api-using-python-b6fbd7129a33"
   ]
  },
  {
   "cell_type": "code",
   "execution_count": 1,
   "id": "3137aac6",
   "metadata": {},
   "outputs": [],
   "source": [
    "import os\n",
    "import tweepy\n",
    "from tqdm.notebook import tqdm\n",
    "# from dotenv import load_dotenv"
   ]
  },
  {
   "cell_type": "code",
   "execution_count": 2,
   "id": "58d463bc",
   "metadata": {},
   "outputs": [],
   "source": [
    "API_KEY = \"M8GmmOO8ZCdhQ4vPZPWxVL2Ly\"\n",
    "API_KEY_SECRET = \"0QWPu7N4NtePIK75bIuqXF833lDbplEroRIzIdXSldBf69g4qK\"\n",
    "ACCESS_TOKEN = \"1048635201688092672-3rQ4P9ZuDcD4QiVnAzuM14cabvFknK\"\n",
    "ACCESS_TOKEN_SECRET = \"Ihdzda9piVdrsKWi7vKUUSk5t7cMuItEPklvq9rG5IIit\"\n",
    "BEARER_TOKEN = \"AAAAAAAAAAAAAAAAAAAAAGyxiQEAAAAAaQ7AgOrq0p1Jm4WoH5ul7a3DDgM%3DXl0E2KQl7PFmbopgpF8CJQG5JGfrfYLacZkV7lwzt7wDx1y2GR\"\n",
    "Client_Secret = \"JDQen9x8mscxhhJB0j7716sXTq7V8dYKqbkICqkz7pUj0fNRWe\""
   ]
  },
  {
   "cell_type": "code",
   "execution_count": 3,
   "id": "3cd08743",
   "metadata": {},
   "outputs": [],
   "source": [
    "consumer_key = API_KEY\n",
    "consumer_secret = API_KEY_SECRET\n",
    "access_token = ACCESS_TOKEN\n",
    "access_token_secret = ACCESS_TOKEN_SECRET"
   ]
  },
  {
   "cell_type": "code",
   "execution_count": 4,
   "id": "f2985a29",
   "metadata": {},
   "outputs": [],
   "source": [
    "# load_dotenv()  \n",
    "\n",
    "# consumer_key = os.environ[\"API_KEY\"]\n",
    "# consumer_secret = os.environ[\"API_KEY_SECRET\"]\n",
    "# access_token = os.environ[\"ACCESS_TOKEN\"]\n",
    "# access_token_secret = os.environ[\"ACCESS_TOKEN_SECRET\"]"
   ]
  },
  {
   "cell_type": "code",
   "execution_count": 5,
   "id": "f5f424ce",
   "metadata": {},
   "outputs": [],
   "source": [
    "auth = tweepy.OAuth1UserHandler(\n",
    "  consumer_key, \n",
    "  consumer_secret, \n",
    "  access_token, \n",
    "  access_token_secret\n",
    ")\n",
    "\n",
    "api = tweepy.API(auth)"
   ]
  },
  {
   "cell_type": "raw",
   "id": "f8a2ef13",
   "metadata": {},
   "source": [
    "\"Funded phd\" OR \"phd position\" OR \"Recruiting phd\" OR \"PhD fellowship\" OR \"Recruiting for a phd\" OR \"PhD opportunity\""
   ]
  },
  {
   "cell_type": "code",
   "execution_count": 6,
   "id": "f3eb1f34",
   "metadata": {},
   "outputs": [],
   "source": [
    "keywords = ['Funded phd', \n",
    "            'phd position', \n",
    "            'Recruiting phd', \n",
    "            'PhD fellowship', \n",
    "            'Recruiting for a phd',\n",
    "            'PhD opportunity']"
   ]
  },
  {
   "cell_type": "code",
   "execution_count": 7,
   "id": "a4454757",
   "metadata": {},
   "outputs": [],
   "source": [
    "from datetime import datetime, timedelta\n",
    "today = datetime.today()\n",
    "date = today - timedelta(days=1)\n",
    "date = date.strftime('%Y-%m-%d')"
   ]
  },
  {
   "cell_type": "code",
   "execution_count": 8,
   "id": "977a0efa",
   "metadata": {},
   "outputs": [
    {
     "data": {
      "text/plain": [
       "'2022-10-22'"
      ]
     },
     "execution_count": 8,
     "metadata": {},
     "output_type": "execute_result"
    }
   ],
   "source": [
    "date"
   ]
  },
  {
   "cell_type": "code",
   "execution_count": null,
   "id": "74ae007a",
   "metadata": {},
   "outputs": [],
   "source": []
  },
  {
   "cell_type": "code",
   "execution_count": 9,
   "id": "a15e1eda",
   "metadata": {},
   "outputs": [
    {
     "data": {
      "application/vnd.jupyter.widget-view+json": {
       "model_id": "42de1af56d274da8bd89c1c327346b66",
       "version_major": 2,
       "version_minor": 0
      },
      "text/plain": [
       "  0%|          | 0/6 [00:00<?, ?it/s]"
      ]
     },
     "metadata": {},
     "output_type": "display_data"
    }
   ],
   "source": [
    "tweets = []\n",
    "for keyword in tqdm(keywords):\n",
    "    query = f'\"{keyword}\" since:{date} -filter:retweets'\n",
    "    tweets += api.search_tweets(query,\n",
    "                                tweet_mode=\"extended\",\n",
    "                                result_type = \"recent\",\n",
    "                                lang=\"en\",\n",
    "                                count=100)"
   ]
  },
  {
   "cell_type": "code",
   "execution_count": 10,
   "id": "7fb8acee",
   "metadata": {},
   "outputs": [
    {
     "data": {
      "text/plain": [
       "86"
      ]
     },
     "execution_count": 10,
     "metadata": {},
     "output_type": "execute_result"
    }
   ],
   "source": [
    "len(tweets)"
   ]
  },
  {
   "cell_type": "code",
   "execution_count": 11,
   "id": "c23686ca",
   "metadata": {},
   "outputs": [
    {
     "data": {
      "text/plain": [
       "81"
      ]
     },
     "execution_count": 11,
     "metadata": {},
     "output_type": "execute_result"
    }
   ],
   "source": [
    "len(set(tweets))"
   ]
  },
  {
   "cell_type": "code",
   "execution_count": 12,
   "id": "1874393e",
   "metadata": {},
   "outputs": [],
   "source": [
    "positions = []\n",
    "_positions = []\n",
    "\n",
    "for tweet in set(tweets):\n",
    "    url = f\"https://twitter.com/twitter/statuses/{tweet.id}\"\n",
    "    try:\n",
    "        description = tweet.retweeted_status.full_text\n",
    "        \n",
    "    except AttributeError:\n",
    "        description = tweet.full_text\n",
    "\n",
    "    if description not in _positions:\n",
    "        _positions.append(f\"{description}\")\n",
    "        positions.append(f\"date:{tweet.created_at.strftime('%Y-%m-%d %H:%M:%S')}\\nby:{tweet.user.name}\\n\\n{description}\\n{url}\")"
   ]
  },
  {
   "cell_type": "code",
   "execution_count": 13,
   "id": "35d620ce",
   "metadata": {},
   "outputs": [
    {
     "data": {
      "text/plain": [
       "81"
      ]
     },
     "execution_count": 13,
     "metadata": {},
     "output_type": "execute_result"
    }
   ],
   "source": [
    "len(positions)"
   ]
  },
  {
   "cell_type": "code",
   "execution_count": 14,
   "id": "f20e2583",
   "metadata": {
    "scrolled": false
   },
   "outputs": [
    {
     "name": "stdout",
     "output_type": "stream",
     "text": [
      "date:2022-10-23 02:17:12\n",
      "by:Karkidi\n",
      "\n",
      "Explore the exciting new world of PhD fellowship jobs, early careers and internships for recent graduates in data science, machine learning and artificial intelligence.\n",
      "\n",
      "https://t.co/CGLDv7fJ8x https://t.co/9za3NusVDI\n",
      "https://twitter.com/twitter/statuses/1584005990500175872\n",
      "-------------------------------------------------- \n",
      "\n",
      "date:2022-10-22 09:04:41\n",
      "by:Felix Bachofer\n",
      "\n",
      "We are hiring: DLR - Jobs &amp; Career - PhD position: Potential of EO for automatic object extraction from high resolution data… https://t.co/2SxVnXZ02I #EO #AI #MachineLearning #JobAlert\n",
      "https://twitter.com/twitter/statuses/1583746150523633664\n",
      "-------------------------------------------------- \n",
      "\n",
      "date:2022-10-23 13:23:53\n",
      "by:Olumide Fashakin  🇳🇬🇹🇭\n",
      "\n",
      "PhD Position in Machine Learning in the Clopath Lab under the joint supervision of Dr. Claudia Clopath at Imperial College London and Dr. Razvan Pascanu at DeepMind London.\n",
      "\n",
      "https://t.co/FX8QknuLmM https://t.co/w89C32Itg7\n",
      "https://twitter.com/twitter/statuses/1584173766514728960\n",
      "-------------------------------------------------- \n",
      "\n",
      "date:2022-10-23 01:20:46\n",
      "by:Olufemi Bolarinwa\n",
      "\n",
      "PhD opportunity in machine learning \n",
      "👇🏾 https://t.co/vNYPLw4XZd\n",
      "https://twitter.com/twitter/statuses/1583991791837028352\n",
      "-------------------------------------------------- \n",
      "\n",
      "date:2022-10-22 12:50:27\n",
      "by:CORPUS\n",
      "\n",
      "https://t.co/r4LuUlJuPS\n",
      " \n",
      "Yu-Wei Chao selected for Google PhD FellowshipYu-Wei is a third year PhD student whose research focuses on computer vision and machine le…\n",
      "#computervision #machinelearning #vision #student #research #cv #computer #google #ml\n",
      "https://twitter.com/twitter/statuses/1583802966989053955\n",
      "-------------------------------------------------- \n",
      "\n"
     ]
    }
   ],
   "source": [
    "position_keywords = [\"computer vision\",\n",
    "             \"computervision\",\n",
    "             \"deep learning\",\n",
    "             \"deeplearning\",\n",
    "             \"machine learning\",\n",
    "             \"machinelearning\",\n",
    "             \"artificial intelligence\",\n",
    "             \"artificialintelligence\",\n",
    "             \"remote sensing\",\n",
    "             \"remotesensing\",\n",
    "             \"object detection\",\n",
    "             \"objectdetection\",\n",
    "             \"clasification\",\n",
    "             \"segmentation\",\n",
    "             \"object extraction\",\n",
    "             \"objectextraction\",\n",
    "             \"supervised learning\",\n",
    "             \"supervisedlearning\",\n",
    "             \"semi-supervised learning\",\n",
    "             \"semi-supervisedlearning\",\n",
    "             \"unsupervised learning\",\n",
    "             \"weakly-supervised learning\",\n",
    "             \"weakly-supervisedlearning\",\n",
    "             \"#AI\",\n",
    "             \"#ML\",]\n",
    "for i,text in enumerate(positions):\n",
    "    if any(item.lower() in text.lower() for item in test_list):\n",
    "        print(text)\n",
    "        print(\"-\"*50,\"\\n\")"
   ]
  },
  {
   "cell_type": "code",
   "execution_count": null,
   "id": "f25db0bc",
   "metadata": {},
   "outputs": [],
   "source": []
  },
  {
   "cell_type": "code",
   "execution_count": null,
   "id": "05a0822b",
   "metadata": {},
   "outputs": [],
   "source": []
  }
 ],
 "metadata": {
  "kernelspec": {
   "display_name": "Python 3 (ipykernel)",
   "language": "python",
   "name": "python3"
  },
  "language_info": {
   "codemirror_mode": {
    "name": "ipython",
    "version": 3
   },
   "file_extension": ".py",
   "mimetype": "text/x-python",
   "name": "python",
   "nbconvert_exporter": "python",
   "pygments_lexer": "ipython3",
   "version": "3.9.12"
  }
 },
 "nbformat": 4,
 "nbformat_minor": 5
}
