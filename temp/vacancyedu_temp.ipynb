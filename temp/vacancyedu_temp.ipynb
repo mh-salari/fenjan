{
 "cells": [
  {
   "cell_type": "code",
   "execution_count": null,
   "id": "a09ab3b6",
   "metadata": {},
   "outputs": [],
   "source": [
    "# https://vacancyedu.com/fully-funded-phd-positions/"
   ]
  },
  {
   "cell_type": "code",
   "execution_count": 1,
   "id": "f04c319f",
   "metadata": {},
   "outputs": [],
   "source": [
    "from bs4 import BeautifulSoup\n",
    "import requests"
   ]
  },
  {
   "cell_type": "code",
   "execution_count": null,
   "id": "6e7c0b00",
   "metadata": {},
   "outputs": [],
   "source": []
  },
  {
   "cell_type": "code",
   "execution_count": 2,
   "id": "dd54f443",
   "metadata": {},
   "outputs": [
    {
     "name": "stdout",
     "output_type": "stream",
     "text": [
      "Finding url of all phd programs advertised in the first page\n"
     ]
    }
   ],
   "source": [
    "print(\"Finding url of all phd programs advertised in the first page\")\n",
    "bace_url = \"https://vacancyedu.com/fully-funded-phd-positions/\"\n",
    "r = requests.get(bace_url)\n",
    "if r.status_code != 200:\n",
    "    raise Exception(f\"Request Error: {r.status_code}\")\n",
    "\n"
   ]
  },
  {
   "cell_type": "code",
   "execution_count": 3,
   "id": "e3fce3bb",
   "metadata": {},
   "outputs": [],
   "source": [
    "posts = BeautifulSoup(r.text, \"html.parser\").find_all(\"div\", {\"class\", \"elementor-post__card\"})\n"
   ]
  },
  {
   "cell_type": "code",
   "execution_count": 4,
   "id": "bbbc950b",
   "metadata": {},
   "outputs": [],
   "source": [
    "from datetime import datetime, timedelta\n",
    "# https://www.digitalocean.com/community/tutorials/python-string-to-datetime-strptime"
   ]
  },
  {
   "cell_type": "code",
   "execution_count": 5,
   "id": "e5b00a97",
   "metadata": {},
   "outputs": [],
   "source": [
    "date_string = posts[0].find(\"div\", {\"class\", \"elementor-post__meta-data\"}).text.strip()"
   ]
  },
  {
   "cell_type": "code",
   "execution_count": 6,
   "id": "e9ccd326",
   "metadata": {},
   "outputs": [
    {
     "data": {
      "text/plain": [
       "'November 29, 2022'"
      ]
     },
     "execution_count": 6,
     "metadata": {},
     "output_type": "execute_result"
    }
   ],
   "source": [
    "date_string"
   ]
  },
  {
   "cell_type": "code",
   "execution_count": 7,
   "id": "ad30b79e",
   "metadata": {},
   "outputs": [],
   "source": [
    "today = datetime.today()"
   ]
  },
  {
   "cell_type": "code",
   "execution_count": 8,
   "id": "552764b6",
   "metadata": {},
   "outputs": [],
   "source": [
    "date = datetime.strptime(date_string, \"%B %d, %Y\")"
   ]
  },
  {
   "cell_type": "code",
   "execution_count": 9,
   "id": "78763ce4",
   "metadata": {},
   "outputs": [
    {
     "data": {
      "text/plain": [
       "True"
      ]
     },
     "execution_count": 9,
     "metadata": {},
     "output_type": "execute_result"
    }
   ],
   "source": [
    "date_delta = 30\n",
    "date > today - timedelta(days=date_delta)"
   ]
  },
  {
   "cell_type": "code",
   "execution_count": 10,
   "id": "7b087532",
   "metadata": {},
   "outputs": [
    {
     "data": {
      "text/plain": [
       "datetime.datetime(2022, 11, 6, 2, 30, 52, 635024)"
      ]
     },
     "execution_count": 10,
     "metadata": {},
     "output_type": "execute_result"
    }
   ],
   "source": [
    "today - timedelta(days=date_delta)"
   ]
  },
  {
   "cell_type": "code",
   "execution_count": 11,
   "id": "b454d885",
   "metadata": {},
   "outputs": [
    {
     "name": "stdout",
     "output_type": "stream",
     "text": [
      "https://vacancyedu.com/12-phd-degree-fully-funded-at-aalto-university-finland-3/\n"
     ]
    }
   ],
   "source": [
    "url = posts[0].find(\"div\", {\"class\", \"elementor-post__text\"}).a[\"href\"]\n",
    "print(url)"
   ]
  },
  {
   "cell_type": "code",
   "execution_count": 12,
   "id": "d993b6fa",
   "metadata": {},
   "outputs": [],
   "source": [
    "r = requests.get(url)\n",
    "if r.status_code != 200:\n",
    "    raise Exception(f\"Request Error: {r.status_code}\")"
   ]
  },
  {
   "cell_type": "code",
   "execution_count": null,
   "id": "a16a99b1",
   "metadata": {},
   "outputs": [],
   "source": []
  },
  {
   "cell_type": "code",
   "execution_count": 13,
   "id": "a587ed75",
   "metadata": {},
   "outputs": [],
   "source": [
    "soup = BeautifulSoup(r.text, \"html.parser\")"
   ]
  },
  {
   "cell_type": "code",
   "execution_count": 14,
   "id": "6c8a55ac",
   "metadata": {},
   "outputs": [],
   "source": [
    "content = soup.find(id=\"content\")"
   ]
  },
  {
   "cell_type": "code",
   "execution_count": 15,
   "id": "c9855b64",
   "metadata": {},
   "outputs": [
    {
     "data": {
      "text/plain": [
       "<div class=\"site-content\" id=\"content\">\n",
       "<div class=\"content-area\" id=\"primary\">\n",
       "<main class=\"site-main\" id=\"main\">\n",
       "<div class=\"code-block code-block-2\" style=\"margin: 8px 0; clear: both;\">\n",
       "<script async=\"\" crossorigin=\"anonymous\" src=\"https://pagead2.googlesyndication.com/pagead/js/adsbygoogle.js?client=ca-pub-4660205951955648\" type=\"rocketlazyloadscript\"></script>\n",
       "<!-- Edu Res Hor 04 -->\n",
       "<ins class=\"adsbygoogle\" data-ad-client=\"ca-pub-4660205951955648\" data-ad-format=\"auto\" data-ad-slot=\"7124035061\" data-full-width-responsive=\"true\" style=\"display:block\"></ins>\n",
       "<script type=\"rocketlazyloadscript\">\n",
       "     (adsbygoogle = window.adsbygoogle || []).push({});\n",
       "</script></div>\n",
       "<article class=\"post-10162 post type-post status-publish format-standard has-post-thumbnail hentry category-phd category-europe tag-fully-funded-phd-position tag-funded-phd-position tag-phd-degree-programs\" id=\"post-10162\" itemscope=\"\" itemtype=\"https://schema.org/CreativeWork\">\n",
       "<div class=\"inside-article\">\n",
       "<header aria-label=\"Content\" class=\"entry-header\">\n",
       "<h1 class=\"entry-title\" itemprop=\"headline\">12 PhD Degree-Fully Funded at Aalto University, Finland</h1> <div class=\"entry-meta\">\n",
       "<span class=\"posted-on\"><time class=\"entry-date published\" datetime=\"2022-11-29T19:17:44+05:30\" itemprop=\"datePublished\">November 29, 2022</time></span> </div>\n",
       "</header>\n",
       "<div class=\"featured-image page-header-image-single\">\n",
       "<img alt=\"PhD Degree Fully Funded at Aalto University Finland\" class=\"attachment-medium size-medium\" data-lazy-sizes=\"(max-width: 300px) 100vw, 300px\" data-lazy-src=\"https://vacancyedu.com/wp-content/uploads/2021/05/Untitled-design-2021-05-26T132459.863-300x157.png\" data-lazy-srcset=\"https://vacancyedu.com/wp-content/uploads/2021/05/Untitled-design-2021-05-26T132459.863-300x157.png 300w, https://vacancyedu.com/wp-content/uploads/2021/05/Untitled-design-2021-05-26T132459.863-1024x536.png 1024w, https://vacancyedu.com/wp-content/uploads/2021/05/Untitled-design-2021-05-26T132459.863-768x402.png 768w, https://vacancyedu.com/wp-content/uploads/2021/05/Untitled-design-2021-05-26T132459.863.png 1200w\" decoding=\"async\" height=\"157\" itemprop=\"image\" src=\"data:image/svg+xml,%3Csvg%20xmlns='http://www.w3.org/2000/svg'%20viewBox='0%200%20300%20157'%3E%3C/svg%3E\" width=\"300\"/><noscript><img alt=\"PhD Degree Fully Funded at Aalto University Finland\" class=\"attachment-medium size-medium\" decoding=\"async\" height=\"157\" itemprop=\"image\" sizes=\"(max-width: 300px) 100vw, 300px\" src=\"https://vacancyedu.com/wp-content/uploads/2021/05/Untitled-design-2021-05-26T132459.863-300x157.png\" srcset=\"https://vacancyedu.com/wp-content/uploads/2021/05/Untitled-design-2021-05-26T132459.863-300x157.png 300w, https://vacancyedu.com/wp-content/uploads/2021/05/Untitled-design-2021-05-26T132459.863-1024x536.png 1024w, https://vacancyedu.com/wp-content/uploads/2021/05/Untitled-design-2021-05-26T132459.863-768x402.png 768w, https://vacancyedu.com/wp-content/uploads/2021/05/Untitled-design-2021-05-26T132459.863.png 1200w\" width=\"300\"/></noscript>\n",
       "</div>\n",
       "<div class=\"entry-content\" itemprop=\"text\">\n",
       "<div class=\"code-block code-block-1\" style=\"margin: 8px 0; clear: both;\">\n",
       "<script async=\"\" crossorigin=\"anonymous\" src=\"https://pagead2.googlesyndication.com/pagead/js/adsbygoogle.js?client=ca-pub-4660205951955648\" type=\"rocketlazyloadscript\"></script>\n",
       "<!-- Edu Res Hor 03 -->\n",
       "<ins class=\"adsbygoogle\" data-ad-client=\"ca-pub-4660205951955648\" data-ad-format=\"auto\" data-ad-slot=\"9493201627\" data-full-width-responsive=\"true\" style=\"display:block\"></ins>\n",
       "<script type=\"rocketlazyloadscript\">\n",
       "     (adsbygoogle = window.adsbygoogle || []).push({});\n",
       "</script></div>\n",
       "<div style=\"clear:both\"></div><div class=\"the_champ_sharing_container the_champ_horizontal_sharing\" data-super-socializer-href=\"https://vacancyedu.com/12-phd-degree-fully-funded-at-aalto-university-finland-3/\" data-super-socializer-no-counts=\"1\"><div class=\"the_champ_sharing_title\" style=\"font-weight:bold\">Spread the love</div><div class=\"the_champ_sharing_ul\"><a class=\"the_champ_button_google_gmail\" href=\"https://mail.google.com/mail/?ui=2&amp;view=cm&amp;fs=1&amp;tf=1&amp;su=12%20PhD%20Degree-Fully%20Funded%20at%20Aalto%20University%2C%20Finland&amp;body=Link:https%3A%2F%2Fvacancyedu.com%2F12-phd-degree-fully-funded-at-aalto-university-finland-3%2F\" rel=\"nofollow noopener\" style=\"font-size:24px!important;box-shadow:none;display:inline-block;vertical-align:middle\" target=\"_blank\" title=\"Google Gmail\"><span class=\"the_champ_svg the_champ_s__default the_champ_s_Google_Gmail\" style=\"background-color:#e5e5e5;width:35px;height:35px;display:inline-block;opacity:1;float:left;font-size:24px;box-shadow:none;display:inline-block;font-size:16px;padding:0 4px;vertical-align:middle;background-repeat:repeat;overflow:hidden;padding:0;cursor:pointer;box-sizing:content-box\"><svg aria-hidden=\"true\" focusable=\"false\" height=\"100%\" style=\"display:block;\" viewbox=\"0 0 32 32\" width=\"100%\" xmlns=\"http://www.w3.org/2000/svg\"><path d=\"M2.902 6.223h26.195v19.554H2.902z\" fill=\"#fff\"></path><path class=\"the_champ_no_fill\" d=\"M2.902 25.777h26.195V6.223H2.902v19.554zm22.44-4.007v3.806H6.955v-3.6h.032l.093-.034 6.9-5.558 2.09 1.77 1.854-1.63 7.42 5.246zm0-.672l-7.027-4.917 7.028-6.09V21.1zm-1.17-14.67l-.947.905c-2.356 2.284-4.693 4.75-7.17 6.876l-.078.06L8.062 6.39l16.11.033zm-10.597 9.61l-6.62 5.294.016-10.914 6.607 5.62\" fill=\"#E14C41\"></path></svg></span></a><a class=\"the_champ_facebook\" href=\"https://www.facebook.com/sharer/sharer.php?u=https%3A%2F%2Fvacancyedu.com%2F12-phd-degree-fully-funded-at-aalto-university-finland-3%2F\" rel=\"nofollow noopener\" style=\"font-size:24px!important;box-shadow:none;display:inline-block;vertical-align:middle\" target=\"_blank\" title=\"Facebook\"><span class=\"the_champ_svg\" style=\"background-color:#3c589a;width:35px;height:35px;display:inline-block;opacity:1;float:left;font-size:24px;box-shadow:none;display:inline-block;font-size:16px;padding:0 4px;vertical-align:middle;background-repeat:repeat;overflow:hidden;padding:0;cursor:pointer;box-sizing:content-box\"><svg aria-hidden=\"true\" focusable=\"false\" height=\"100%\" style=\"display:block;\" viewbox=\"-5 -5 42 42\" width=\"100%\" xmlns=\"http://www.w3.org/2000/svg\"><path d=\"M17.78 27.5V17.008h3.522l.527-4.09h-4.05v-2.61c0-1.182.33-1.99 2.023-1.99h2.166V4.66c-.375-.05-1.66-.16-3.155-.16-3.123 0-5.26 1.905-5.26 5.405v3.016h-3.53v4.09h3.53V27.5h4.223z\" fill=\"#fff\"></path></svg></span></a><a class=\"the_champ_button_twitter\" href=\"https://twitter.com/intent/tweet?text=12%20PhD%20Degree-Fully%20Funded%20at%20Aalto%20University%2C%20Finland&amp;url=https%3A%2F%2Fvacancyedu.com%2F12-phd-degree-fully-funded-at-aalto-university-finland-3%2F\" rel=\"nofollow noopener\" style=\"font-size:24px!important;box-shadow:none;display:inline-block;vertical-align:middle\" target=\"_blank\" title=\"Twitter\"><span class=\"the_champ_svg the_champ_s__default the_champ_s_twitter\" style=\"background-color:#55acee;width:35px;height:35px;display:inline-block;opacity:1;float:left;font-size:24px;box-shadow:none;display:inline-block;font-size:16px;padding:0 4px;vertical-align:middle;background-repeat:repeat;overflow:hidden;padding:0;cursor:pointer;box-sizing:content-box\"><svg aria-hidden=\"true\" focusable=\"false\" height=\"100%\" style=\"display:block;\" viewbox=\"-4 -4 39 39\" width=\"100%\" xmlns=\"http://www.w3.org/2000/svg\"><path d=\"M28 8.557a9.913 9.913 0 0 1-2.828.775 4.93 4.93 0 0 0 2.166-2.725 9.738 9.738 0 0 1-3.13 1.194 4.92 4.92 0 0 0-3.593-1.55 4.924 4.924 0 0 0-4.794 6.049c-4.09-.21-7.72-2.17-10.15-5.15a4.942 4.942 0 0 0-.665 2.477c0 1.71.87 3.214 2.19 4.1a4.968 4.968 0 0 1-2.23-.616v.06c0 2.39 1.7 4.38 3.952 4.83-.414.115-.85.174-1.297.174-.318 0-.626-.03-.928-.086a4.935 4.935 0 0 0 4.6 3.42 9.893 9.893 0 0 1-6.114 2.107c-.398 0-.79-.023-1.175-.068a13.953 13.953 0 0 0 7.55 2.213c9.056 0 14.01-7.507 14.01-14.013 0-.213-.005-.426-.015-.637.96-.695 1.795-1.56 2.455-2.55z\" fill=\"#fff\"></path></svg></span></a><a class=\"the_champ_button_linkedin\" href=\"https://www.linkedin.com/shareArticle?mini=true&amp;url=https%3A%2F%2Fvacancyedu.com%2F12-phd-degree-fully-funded-at-aalto-university-finland-3%2F&amp;title=12%20PhD%20Degree-Fully%20Funded%20at%20Aalto%20University%2C%20Finland\" rel=\"nofollow noopener\" style=\"font-size:24px!important;box-shadow:none;display:inline-block;vertical-align:middle\" target=\"_blank\" title=\"Linkedin\"><span class=\"the_champ_svg the_champ_s__default the_champ_s_linkedin\" style=\"background-color:#0077b5;width:35px;height:35px;display:inline-block;opacity:1;float:left;font-size:24px;box-shadow:none;display:inline-block;font-size:16px;padding:0 4px;vertical-align:middle;background-repeat:repeat;overflow:hidden;padding:0;cursor:pointer;box-sizing:content-box\"><svg aria-hidden=\"true\" focusable=\"false\" height=\"100%\" style=\"display:block;\" viewbox=\"0 0 32 32\" width=\"100%\" xmlns=\"http://www.w3.org/2000/svg\"><path d=\"M6.227 12.61h4.19v13.48h-4.19V12.61zm2.095-6.7a2.43 2.43 0 0 1 0 4.86c-1.344 0-2.428-1.09-2.428-2.43s1.084-2.43 2.428-2.43m4.72 6.7h4.02v1.84h.058c.56-1.058 1.927-2.176 3.965-2.176 4.238 0 5.02 2.792 5.02 6.42v7.395h-4.183v-6.56c0-1.564-.03-3.574-2.178-3.574-2.18 0-2.514 1.7-2.514 3.46v6.668h-4.187V12.61z\" fill=\"#fff\"></path></svg></span></a><a class=\"the_champ_button_instagram\" href=\"https://www.instagram.com/\" rel=\"nofollow noopener\" style=\"font-size:24px!important;box-shadow:none;display:inline-block;vertical-align:middle\" target=\"_blank\" title=\"Instagram\"><span class=\"the_champ_svg\" style=\"background-color:#53beee;width:35px;height:35px;display:inline-block;opacity:1;float:left;font-size:24px;box-shadow:none;display:inline-block;font-size:16px;padding:0 4px;vertical-align:middle;background-repeat:repeat;overflow:hidden;padding:0;cursor:pointer;box-sizing:content-box\"><svg height=\"100%\" style=\"display:block;\" version=\"1.1\" viewbox=\"-10 -10 148 148\" width=\"100%\" xml:space=\"preserve\" xmlns=\"http://www.w3.org/2000/svg\" xmlns:xlink=\"http://www.w3.org/1999/xlink\"><g><g><path d=\"M86,112H42c-14.336,0-26-11.663-26-26V42c0-14.337,11.664-26,26-26h44c14.337,0,26,11.663,26,26v44 C112,100.337,100.337,112,86,112z M42,24c-9.925,0-18,8.074-18,18v44c0,9.925,8.075,18,18,18h44c9.926,0,18-8.075,18-18V42 c0-9.926-8.074-18-18-18H42z\" fill=\"#fff\"></path></g><g><path d=\"M64,88c-13.234,0-24-10.767-24-24c0-13.234,10.766-24,24-24s24,10.766,24,24C88,77.233,77.234,88,64,88z M64,48c-8.822,0-16,7.178-16,16s7.178,16,16,16c8.822,0,16-7.178,16-16S72.822,48,64,48z\" fill=\"#fff\"></path></g><g><circle cx=\"89.5\" cy=\"38.5\" fill=\"#fff\" r=\"5.5\"></circle></g></g></svg></span></a><a class=\"the_champ_whatsapp\" href=\"https://api.whatsapp.com/send?text=12%20PhD%20Degree-Fully%20Funded%20at%20Aalto%20University%2C%20Finland https%3A%2F%2Fvacancyedu.com%2F12-phd-degree-fully-funded-at-aalto-university-finland-3%2F\" rel=\"nofollow noopener\" style=\"font-size:24px!important;box-shadow:none;display:inline-block;vertical-align:middle\" target=\"_blank\" title=\"Whatsapp\"><span class=\"the_champ_svg\" style=\"background-color:#55eb4c;width:35px;height:35px;display:inline-block;opacity:1;float:left;font-size:24px;box-shadow:none;display:inline-block;font-size:16px;padding:0 4px;vertical-align:middle;background-repeat:repeat;overflow:hidden;padding:0;cursor:pointer;box-sizing:content-box\"><svg aria-hidden=\"true\" focusable=\"false\" height=\"100%\" style=\"display:block;\" viewbox=\"-6 -5 40 40\" width=\"100%\" xmlns=\"http://www.w3.org/2000/svg\"><path class=\"the_champ_svg_stroke the_champ_no_fill\" d=\"M 11.579798566743314 24.396926207859085 A 10 10 0 1 0 6.808479557110079 20.73576436351046\" fill=\"none\" stroke=\"#fff\" stroke-width=\"2\"></path><path class=\"the_champ_no_fill the_champ_svg_stroke\" d=\"M 7 19 l -1 6 l 6 -1\" fill=\"none\" stroke=\"#fff\" stroke-width=\"2\"></path><path d=\"M 10 10 q -1 8 8 11 c 5 -1 0 -6 -1 -3 q -4 -3 -5 -5 c 4 -2 -1 -5 -1 -4\" fill=\"#fff\"></path></svg></span></a><a class=\"the_champ_button_telegram\" href=\"https://telegram.me/share/url?url=https%3A%2F%2Fvacancyedu.com%2F12-phd-degree-fully-funded-at-aalto-university-finland-3%2F&amp;text=12%20PhD%20Degree-Fully%20Funded%20at%20Aalto%20University%2C%20Finland\" rel=\"nofollow noopener\" style=\"font-size:24px!important;box-shadow:none;display:inline-block;vertical-align:middle\" target=\"_blank\" title=\"Telegram\"><span class=\"the_champ_svg the_champ_s__default the_champ_s_telegram\" style=\"background-color:#3da5f1;width:35px;height:35px;display:inline-block;opacity:1;float:left;font-size:24px;box-shadow:none;display:inline-block;font-size:16px;padding:0 4px;vertical-align:middle;background-repeat:repeat;overflow:hidden;padding:0;cursor:pointer;box-sizing:content-box\"><svg aria-hidden=\"true\" focusable=\"false\" height=\"100%\" style=\"display:block;\" viewbox=\"0 0 32 32\" width=\"100%\" xmlns=\"http://www.w3.org/2000/svg\"><path d=\"M25.515 6.896L6.027 14.41c-1.33.534-1.322 1.276-.243 1.606l5 1.56 1.72 5.66c.226.625.115.873.77.873.506 0 .73-.235 1.012-.51l2.43-2.363 5.056 3.734c.93.514 1.602.25 1.834-.863l3.32-15.638c.338-1.363-.52-1.98-1.41-1.577z\" fill=\"#fff\"></path></svg></span></a><a class=\"the_champ_button_yahoo_mail\" href=\"//compose.mail.yahoo.com/?Subject=12%20PhD%20Degree-Fully%20Funded%20at%20Aalto%20University%2C%20Finland&amp;body=Link:https%3A%2F%2Fvacancyedu.com%2F12-phd-degree-fully-funded-at-aalto-university-finland-3%2F\" rel=\"nofollow noopener\" style=\"font-size:24px!important;box-shadow:none;display:inline-block;vertical-align:middle\" target=\"_blank\" title=\"Yahoo Mail\"><span class=\"the_champ_svg the_champ_s__default the_champ_s_yahoo\" style=\"background-color:#400090;width:35px;height:35px;display:inline-block;opacity:1;float:left;font-size:24px;box-shadow:none;display:inline-block;font-size:16px;padding:0 4px;vertical-align:middle;background-repeat:repeat;overflow:hidden;padding:0;cursor:pointer;box-sizing:content-box\"><svg aria-hidden=\"true\" focusable=\"false\" height=\"100%\" style=\"display:block;\" viewbox=\"0 0 32 32\" width=\"100%\" xmlns=\"http://www.w3.org/2000/svg\"><path d=\"M21.495 6.097c1.09.31 2.213.28 3.304 0l-7.42 12.09v9.91a4.366 4.366 0 0 0-1.37-.22c-.47 0-.937.065-1.404.22v-9.91L7.19 6.097c1.09.28 2.213.31 3.304 0l5.516 8.788 5.483-8.787z\" fill=\"#fff\"></path></svg></span></a><a class=\"the_champ_more\" href=\"https://vacancyedu.com/12-phd-degree-fully-funded-at-aalto-university-finland-3/\" onclick=\"event.preventDefault()\" rel=\"nofollow noopener\" style=\"font-size:24px!important;border:0;box-shadow:none;display:inline-block!important;font-size:16px;padding:0 4px;vertical-align: middle;display:inline;\" title=\"More\"><span class=\"the_champ_svg\" onclick=\"theChampMoreSharingPopup(this, 'https://vacancyedu.com/12-phd-degree-fully-funded-at-aalto-university-finland-3/', '12%20PhD%20Degree-Fully%20Funded%20at%20Aalto%20University%2C%20Finland', '' )\" style=\"background-color:#ee8e2d;width:35px;height:35px;display:inline-block!important;opacity:1;float:left;font-size:32px!important;box-shadow:none;display:inline-block;font-size:16px;padding:0 4px;vertical-align:middle;display:inline;background-repeat:repeat;overflow:hidden;padding:0;cursor:pointer;box-sizing:content-box;\"><svg height=\"100%\" style=\"display:block;\" version=\"1.1\" viewbox=\"-.3 0 32 32\" width=\"100%\" xml:space=\"preserve\" xmlns=\"http://www.w3.org/2000/svg\" xmlns:xlink=\"http://www.w3.org/1999/xlink\"><g><path d=\"M18 14V8h-4v6H8v4h6v6h4v-6h6v-4h-6z\" fill=\"#fff\" fill-rule=\"evenodd\"></path></g></svg></span></a><a class=\"theChampSharingRound\" style=\"font-size:24px!important;box-shadow:none;display:inline-block!important;font-size: 16px;padding: 0 4px;vertical-align:middle;display:inline;\"><div class=\"theChampSharing theChampTCBackground\" style=\"width:35px;height:35px;margin-left:9px !important;\" title=\"Total Shares\"></div></a></div></div><div style=\"clear:both\"></div><br/><p style=\"text-align: justify;\">Aalto University, Finland invites online Application for number of  Fully Funded PhD Degree at various Departments. We are providing a list of Fully Funded PhD Programs available at Aalto University, Finland.</p>\n",
       "<p style=\"text-align: justify;\">Eligible candidate may Apply as soon as possible.</p>\n",
       "<h2 style=\"text-align: justify;\"> </h2>\n",
       "<h2 style=\"text-align: justify;\">(01) PhD Degree – Fully Funded</h2>\n",
       "<p style=\"text-align: justify;\"><strong>PhD position summary/title:</strong> Doctoral researcher positions in Business, Economics and Finance</p>\n",
       "<p style=\"text-align: justify;\">Aalto University Doctoral Program in Business, Economics and Finance invites applications for Doctoral Researcher positions for students who started their doctoral studies in the School of Business program in 2020 and 2021. In cases of officially protected leaves of absence, such as parental leave, Finnish military service or long-term sick leave, students who have started earlier can be eligible, too.</p>\n",
       "<p style=\"text-align: justify;\"><strong>Deadline :</strong> 31.1.2023</p><div class=\"code-block code-block-3\" style=\"margin: 8px auto; text-align: center; display: block; clear: both;\">\n",
       "<script async=\"\" crossorigin=\"anonymous\" src=\"https://pagead2.googlesyndication.com/pagead/js/adsbygoogle.js?client=ca-pub-4660205951955648\" type=\"rocketlazyloadscript\"></script>\n",
       "<!-- Edu Res 10 -->\n",
       "<ins class=\"adsbygoogle\" data-ad-client=\"ca-pub-4660205951955648\" data-ad-format=\"auto\" data-ad-slot=\"5154124370\" data-full-width-responsive=\"true\" style=\"display:block\"></ins>\n",
       "<script type=\"rocketlazyloadscript\">\n",
       "     (adsbygoogle = window.adsbygoogle || []).push({});\n",
       "</script></div>\n",
       "<p style=\"text-align: justify;\"><a href=\"https://www.aalto.fi/en/open-positions/doctoral-researcher-positions-in-business-economics-and-finance-0\" rel=\"noopener\" target=\"_blank\"><strong>View details &amp; Apply</strong></a></p>\n",
       "<p style=\"text-align: justify;\"> </p>\n",
       "<h3 style=\"text-align: justify;\">(02) PhD Degree – Fully Funded</h3>\n",
       "<p style=\"text-align: justify;\"><strong>PhD position summary/title:</strong> Doctoral Researchers in Mathematics, Operations Research, and Statistics</p>\n",
       "<p style=\"text-align: justify;\">Aalto University is where science and art meet technology and business. We shape a sustainable future by making research breakthroughs in and across our disciplines, sparking game changers of tomorrow and creating novel solutions to major global challenges. Our community is made up of 12 000 students, 400 professors and close to 4 000 other faculty and staff, mainly working on our dynamic Otaniemi campus in Espoo, Greater Helsinki, Finland. Diversity is part of who we are, and we actively work to ensure our community’s inclusiveness. We warmly encourage qualified candidates from all backgrounds to join our community.</p>\n",
       "<p style=\"text-align: justify;\"><strong>Deadline :</strong> 31.1.2023</p>\n",
       "<p style=\"text-align: justify;\"><a href=\"https://www.aalto.fi/en/open-positions/doctoral-researchers-in-mathematics-operations-research-and-statistics\" rel=\"noopener\" target=\"_blank\"><strong>View details &amp; Apply</strong></a></p>\n",
       "<p style=\"text-align: justify;\"> </p>\n",
       "<p style=\"text-align: center;\"><em><span style=\"font-size: 14pt;\"><strong><a href=\"https://vacancyedu.com/fully-funded-phd-positions/\">View All Fully Funded PhD Positions Click Here</a></strong></span></em></p>\n",
       "<p style=\"text-align: justify;\"> </p>\n",
       "<h4 style=\"text-align: justify;\">(03) PhD Degree – Fully Funded</h4>\n",
       "<p style=\"text-align: justify;\"><strong>PhD position summary/title:</strong> Doctoral Candidate position in Software Analytics and Testability</p>\n",
       "<p style=\"text-align: justify;\">We are searching for a full-time Doctoral Candidate working on engineering analytics for complex software systems. The target software system is Nokia software for mobile networks products and the research focus will be on analytics tools and techniques for software understanding, optimization and testability. This position will be funded in the context of a research project with Nokia for 4 years (based on an initial 2 years contract + 2 years extension). The key idea is to analyze software code, docs, tests, logs etc. to (i) detect problematic code dependencies/patterns, (ii) manage change adaptation given the evolution of underlying dependent software and hardware, and (iii) optimize large scale testing workflows. Big data, dependency analytics, machine learning and testing methods will be employed for the research and development whereas strong skills in large-scale software systems are important. The Doctoral Candidate will have a close collaboration with the Nokia software team.</p><div class=\"code-block code-block-4\" style=\"margin: 8px 0; clear: both;\">\n",
       "<script async=\"\" crossorigin=\"anonymous\" src=\"https://pagead2.googlesyndication.com/pagead/js/adsbygoogle.js?client=ca-pub-4660205951955648\" type=\"rocketlazyloadscript\"></script>\n",
       "<!-- Edu Res Home 05 -->\n",
       "<ins class=\"adsbygoogle\" data-ad-client=\"ca-pub-4660205951955648\" data-ad-format=\"auto\" data-ad-slot=\"6264403051\" data-full-width-responsive=\"true\" style=\"display:block\"></ins>\n",
       "<script type=\"rocketlazyloadscript\">\n",
       "     (adsbygoogle = window.adsbygoogle || []).push({});\n",
       "</script></div>\n",
       "<p style=\"text-align: justify;\"><strong>Deadline :</strong> 31.1.2023</p>\n",
       "<p style=\"text-align: justify;\"><a href=\"https://www.aalto.fi/en/open-positions/doctoral-candidate-position-in-software-analytics-and-testability\" rel=\"noopener\" target=\"_blank\"><strong>View details &amp; Apply</strong></a></p>\n",
       "<p style=\"text-align: justify;\"> </p>\n",
       "<h4 style=\"text-align: justify;\">(04) PhD Degree – Fully Funded</h4>\n",
       "<p style=\"text-align: justify;\"><strong>PhD position summary/title:</strong> Doctoral Researcher in Thermal Nanosciences</p>\n",
       "<p style=\"text-align: justify;\">We are looking for a doctoral researcher (Ph.D. student) for a project investigating the thermal properties of nanomaterials via optical characterization methods. Understanding heat flow in the nanoscale is getting crucially more important as the size of electronic and photonic devices is getting smaller and smaller, as the amount of waste heat produced has an enormous impact on both device performance and energy efficiency. At the same time, the measurement of thermal properties of nanoscale structures is challenging and requires sophisticated instrumentation.</p>\n",
       "<p style=\"text-align: justify;\"><strong>Deadline :</strong> 31.12.2022</p>\n",
       "<p style=\"text-align: justify;\"><a href=\"https://www.aalto.fi/en/open-positions/doctoral-researcher-in-thermal-nanosciences\" rel=\"noopener\" target=\"_blank\"><strong>View details &amp; Apply</strong></a></p>\n",
       "<p style=\"text-align: justify;\"> </p><div class=\"code-block code-block-5\" style=\"margin: 8px 0; clear: both;\">\n",
       "<script async=\"\" crossorigin=\"anonymous\" src=\"https://pagead2.googlesyndication.com/pagead/js/adsbygoogle.js?client=ca-pub-4660205951955648\" type=\"rocketlazyloadscript\"></script>\n",
       "<!-- Edu Res 14 -->\n",
       "<ins class=\"adsbygoogle\" data-ad-client=\"ca-pub-4660205951955648\" data-ad-format=\"auto\" data-ad-slot=\"1705833955\" data-full-width-responsive=\"true\" style=\"display:block\"></ins>\n",
       "<script type=\"rocketlazyloadscript\">\n",
       "     (adsbygoogle = window.adsbygoogle || []).push({});\n",
       "</script></div>\n",
       "<p class=\"elementor-post__title\" style=\"text-align: center;\"><span style=\"font-size: 14pt;\"><strong><em><a href=\"https://vacancyedu.com/polite-follow-up-email-to-professor/\">Polite Follow-Up Email to Professor : When and How You should Write</a></em></strong></span></p>\n",
       "<p style=\"text-align: justify;\"> </p>\n",
       "<h4 style=\"text-align: justify;\">(05) PhD Degree – Fully Funded</h4>\n",
       "<p style=\"text-align: justify;\"><strong>PhD position summary/title:</strong> Doctoral Researcher in Thermal Nanosciences</p>\n",
       "<p style=\"text-align: justify;\">We are looking for a doctoral researcher (Ph.D. student) for a project investigating the thermal properties of nanomaterials via optical characterization methods. Understanding heat flow in the nanoscale is getting crucially more important as the size of electronic and photonic devices is getting smaller and smaller, as the amount of waste heat produced has an enormous impact on both device performance and energy efficiency. At the same time, the measurement of thermal properties of nanoscale structures is challenging and requires sophisticated instrumentation.</p>\n",
       "<p style=\"text-align: justify;\"><strong>Deadline :</strong> 31.12.2022</p>\n",
       "<p style=\"text-align: justify;\"><a href=\"https://www.aalto.fi/en/open-positions/doctoral-researcher-in-thermal-nanosciences\" rel=\"noopener\" target=\"_blank\"><strong>View details &amp; Apply</strong></a></p>\n",
       "<p style=\"text-align: justify;\"> </p>\n",
       "<h4 style=\"text-align: justify;\">(06) PhD Degree – Fully Funded</h4>\n",
       "<p style=\"text-align: justify;\"><strong>PhD position summary/title:</strong> Doctoral Researcher and/or Postdoctoral Researcher in the area of wood science and technology</p>\n",
       "<p style=\"text-align: justify;\">The candidate(s) will be mainly working in different projects related to wood-water interactions and wood modification techniques and other treatments. The positions are available immediately, but the starting date can be negotiated to several months ahead. The positions are open in the research group <a href=\"https://www.aalto.fi/en/node/11991\" rel=\"noopener\" target=\"_blank\">Wood Material Science </a> headed by Prof. Lauri Rautkari. The laboratories are situated on the main campus of Aalto University in Otaniemi (Finland) within the <a href=\"https://www.aalto.fi/en/node/5266\" rel=\"noopener\" target=\"_blank\">Department of Bioproducts and Biosystems</a> which is equipped with excellent facilities (<a href=\"http://www.bioeconomyinfra.fi/\" rel=\"noopener\" target=\"_blank\">http://www.bioeconomyinfra.fi/</a>) and in Nanomicroscopy center (<a href=\"http://nmc.aalto.fi/en/\" rel=\"noopener\" target=\"_blank\">http://nmc.aalto.fi/en/</a>).</p>\n",
       "<p style=\"text-align: justify;\"><strong>Deadline :</strong> 22.12.2022</p>\n",
       "<p style=\"text-align: justify;\"><a href=\"https://www.aalto.fi/en/open-positions/doctoral-researcher-andor-postdoctoral-researcher-in-the-area-of-wood-science-and-technology\" rel=\"noopener\" target=\"_blank\"><strong>View details &amp; Apply</strong></a></p>\n",
       "<p style=\"text-align: justify;\"> </p><div class=\"code-block code-block-6\" style=\"margin: 8px 0; clear: both;\">\n",
       "<script async=\"\" crossorigin=\"anonymous\" src=\"https://pagead2.googlesyndication.com/pagead/js/adsbygoogle.js?client=ca-pub-4660205951955648\" type=\"rocketlazyloadscript\"></script>\n",
       "<!-- Edu Res Home 05 -->\n",
       "<ins class=\"adsbygoogle\" data-ad-client=\"ca-pub-4660205951955648\" data-ad-format=\"auto\" data-ad-slot=\"6264403051\" data-full-width-responsive=\"true\" style=\"display:block\"></ins>\n",
       "<script type=\"rocketlazyloadscript\">\n",
       "     (adsbygoogle = window.adsbygoogle || []).push({});\n",
       "</script></div>\n",
       "<p style=\"text-align: center;\"><em><span style=\"font-size: 14pt;\"><strong><a href=\"https://vacancyedu.com/how-to-write-an-effective-cover-letter/\">Click here to know “How to Write an Effective Cover Letter”</a></strong></span></em></p>\n",
       "<p style=\"text-align: justify;\"> </p>\n",
       "<h4 style=\"text-align: justify;\">(07) PhD Degree – Fully Funded</h4>\n",
       "<p style=\"text-align: justify;\"><strong>PhD position summary/title:</strong> Doctoral Researcher in Machine Learning for Atmospheric Science</p>\n",
       "<p style=\"text-align: justify;\">We are looking for a PhD student to join the <a href=\"https://www.aalto.fi/en/node/13021\" rel=\"noopener\" target=\"_blank\">Computational Electronic Structure Theory (CEST) </a>group at the Department of Applied Physics at Aalto University. In this position, you will have a chance to make an impact in atmospheric science by applying tools from artificial intelligence to molecular modelling of aerosol chemistry.  Your project will be a part of the recently founded Center of Excellence in Reseach on Atmospheric Science, <a href=\"https://wiki.helsinki.fi/display/VILMA/\" rel=\"noopener\" target=\"_blank\">VILMA</a> (funded by the Academy of Finland in the period 2022-2029). Our long-term objective is to understand molecular aggregation processes in the atmosphere and how they affect air quality and climate change.</p>\n",
       "<p style=\"text-align: justify;\"><strong>Deadline :16.12.2022</strong></p>\n",
       "<p style=\"text-align: justify;\"><a href=\"https://www.aalto.fi/en/open-positions/doctoral-researcher-in-machine-learning-for-atmospheric-science\" rel=\"noopener\" target=\"_blank\"><strong>View details &amp; Apply</strong></a></p>\n",
       "<p style=\"text-align: justify;\"> </p>\n",
       "<h4 style=\"text-align: justify;\">(08) PhD Degree – Fully Funded</h4>\n",
       "<p style=\"text-align: justify;\"><strong>PhD position summary/title:</strong> Doctoral Researcher (PhD Student) Position in the field of Computational Materials Science</p>\n",
       "<p style=\"text-align: justify;\">Your main tasks will involve performing and analysing large scale simulations of radiation effects in semiconductor materials, using the supercomputing resources available to the group. The main computational tool will be molecular dynamics, implemented with a range of extensions useful for modelling non-equilibrium processes. You will work independently, but with the close support and supervision of the group leader Prof. Andrea Sand. This position will allow you to deepen your knowledge of materials science, to further develop skills in computing and programming, as well as in scientific writing and presenting, and to grow into an independent researcher. You will be expected to complete a PhD thesis within four years. As a member of the group, you will partake in group meetings, presenting your research progress there, and co-supervise Bachelors and Masters students. In addition, PhD students are expected to participate in teaching activities at the Department as course assistants.</p>\n",
       "<p style=\"text-align: justify;\"><strong>Deadline :15.12.2022</strong></p><div class=\"code-block code-block-7\" style=\"margin: 8px 0; clear: both;\">\n",
       "<script async=\"\" crossorigin=\"anonymous\" src=\"https://pagead2.googlesyndication.com/pagead/js/adsbygoogle.js?client=ca-pub-4660205951955648\" type=\"rocketlazyloadscript\"></script>\n",
       "<!-- Edu Res 11 -->\n",
       "<ins class=\"adsbygoogle\" data-ad-client=\"ca-pub-4660205951955648\" data-ad-format=\"auto\" data-ad-slot=\"1761674275\" data-full-width-responsive=\"true\" style=\"display:block\"></ins>\n",
       "<script type=\"rocketlazyloadscript\">\n",
       "     (adsbygoogle = window.adsbygoogle || []).push({});\n",
       "</script></div>\n",
       "<p style=\"text-align: justify;\"><a href=\"https://www.aalto.fi/en/open-positions/doctoral-researcher-phd-student-position-in-the-field-of-computational-materials-science\" rel=\"noopener\" target=\"_blank\"><strong>View details &amp; Apply</strong></a></p>\n",
       "<p style=\"text-align: justify;\"> </p>\n",
       "<h4 style=\"text-align: justify;\">(09) PhD Degree – Fully Funded</h4>\n",
       "<p style=\"text-align: justify;\"><strong>PhD position summary/title:</strong> Doctoral Researcher position in the field of nano-optics</p>\n",
       "<p style=\"text-align: justify;\">We are looking for an outstanding postgraduate student to join the Optics and Photonics group for theoretical and experimental research on nanophotonics. The research will be focused on the development of surface nanostructures and nanomaterials that can control optical fields with unprecedented efficiency and accuracy, allowing one to increase the multifunctionality and simultaneously significantly decrease the dimensions of optical components and devices. Potential applications of the nanostructures to be developed range from novel optical sources and detectors to advanced imaging systems and on-chip optical processors. The appointment is for 4 years with a flexible start in autumn 2022. The research is funded by the Academy of Finland and involves collaboration with researchers from University of Eastern Finland and Tampere University, as well as several international research teams from Germany and USA.</p>\n",
       "<p style=\"text-align: justify;\"><strong>Deadline :</strong> 15.12.2022</p>\n",
       "<p style=\"text-align: justify;\"><a href=\"https://www.aalto.fi/en/open-positions/doctoral-researcher-position-in-the-field-of-nano-optics\" rel=\"noopener\" target=\"_blank\"><strong>View details &amp; Apply</strong></a></p>\n",
       "<p style=\"text-align: justify;\"> </p>\n",
       "<h4 style=\"text-align: justify;\">(10) PhD Degree – Fully Funded</h4>\n",
       "<p style=\"text-align: justify;\"><strong>PhD position summary/title:</strong> Doctoral Researcher in Engineering Psychology</p>\n",
       "<p style=\"text-align: justify;\">We are searching for a full-time Doctoral Researcher working on engineering psychology in computing systems. The research will focus on user studies and interactive systems. This position will be funded based on an initial 2-year contract + 2 years extension. The key idea is to apply theories, models, and methods from psychology to research in human-computer interaction.</p>\n",
       "<p style=\"text-align: justify;\"><strong>Deadline :</strong> 30.11.2022</p>\n",
       "<p style=\"text-align: justify;\"><a href=\"https://www.aalto.fi/en/open-positions/doctoral-researcher-in-engineering-psychology\" rel=\"noopener\" target=\"_blank\"><strong>View details &amp; Apply</strong></a></p>\n",
       "<p style=\"text-align: justify;\"> </p><div class=\"code-block code-block-8\" style=\"margin: 8px 0; clear: both;\">\n",
       "<script async=\"\" crossorigin=\"anonymous\" src=\"https://pagead2.googlesyndication.com/pagead/js/adsbygoogle.js?client=ca-pub-4660205951955648\" type=\"rocketlazyloadscript\"></script>\n",
       "<!-- Edu Res 12 -->\n",
       "<ins class=\"adsbygoogle\" data-ad-client=\"ca-pub-4660205951955648\" data-ad-format=\"auto\" data-ad-slot=\"4906712362\" data-full-width-responsive=\"true\" style=\"display:block\"></ins>\n",
       "<script type=\"rocketlazyloadscript\">\n",
       "     (adsbygoogle = window.adsbygoogle || []).push({});\n",
       "</script></div>\n",
       "<p style=\"text-align: center;\"><span style=\"color: #ff0000;\"><strong><span style=\"font-size: 14pt;\">Connect with Us for Latest Job updates </span></strong></span></p>\n",
       "<p style=\"text-align: center;\"><strong><a href=\"https://t.me/Phd_postdoc\" target=\"_blank\"><span style=\"font-size: 14pt;\">Telegram Group</span></a></strong></p>\n",
       "<p style=\"text-align: center;\"><strong><a href=\"https://www.facebook.com/vacancyedu/\" rel=\"noopener\" target=\"_blank\"><span style=\"font-size: 14pt;\">Facebook</span></a></strong></p>\n",
       "<p style=\"text-align: center;\"><strong><a href=\"https://twitter.com/VacancyEdu\" rel=\"noopener\" target=\"_blank\"><span style=\"font-size: 14pt;\">Twitter</span></a></strong></p>\n",
       "<h4 style=\"text-align: justify;\">(11) PhD Degree – Fully Funded</h4>\n",
       "<p style=\"text-align: justify;\"><strong>PhD position summary/title:</strong> Doctoral researcher in Optics and Photonics</p>\n",
       "<p style=\"text-align: justify;\">We are looking for an outstanding doctoral student to join the Optics and Photonics group for theoretical and experimental research on nanophotonics. The research will be focused on fundamental understanding and development of novel approaches to design, create, and investigate planar photonic nanostructures (photonic crystals and metasurfaces) that can efficiently trap, guide, localize, and enhance optical fields. The position is fully funded by the Academy of Finland and involves collaboration with researchers from the Department of Electronics and Nanoengineering at Aalto University, as well as international collaboration with a research team from the Netherlands. </p>\n",
       "<p style=\"text-align: justify;\"><strong>Deadline :</strong> 30.11.2022</p>\n",
       "<p style=\"text-align: justify;\"><a href=\"https://www.aalto.fi/en/open-positions/doctoral-researcher-in-optics-and-photonics\" rel=\"noopener\" target=\"_blank\"><strong>View details &amp; Apply</strong></a></p>\n",
       "<p style=\"text-align: justify;\"> </p><div class=\"code-block code-block-9\" style=\"margin: 8px 0; clear: both;\">\n",
       "<script async=\"\" crossorigin=\"anonymous\" src=\"https://pagead2.googlesyndication.com/pagead/js/adsbygoogle.js?client=ca-pub-4660205951955648\" type=\"rocketlazyloadscript\"></script>\n",
       "<!-- Edu Res 13 -->\n",
       "<ins class=\"adsbygoogle\" data-ad-client=\"ca-pub-4660205951955648\" data-ad-format=\"auto\" data-ad-slot=\"4523568984\" data-full-width-responsive=\"true\" style=\"display:block\"></ins>\n",
       "<script type=\"rocketlazyloadscript\">\n",
       "     (adsbygoogle = window.adsbygoogle || []).push({});\n",
       "</script></div>\n",
       "<h4 style=\"text-align: justify;\">(12) PhD Degree – Fully Funded</h4>\n",
       "<p style=\"text-align: justify;\"><strong>PhD position summary/title:</strong> Doctoral Researcher in wooden building construction</p>\n",
       "<p style=\"text-align: justify;\">We are searching for a full-time Doctoral Researcher working on sustainable built environment with special focus on wooden buildings to join Real Estate Economics Group<strong>.</strong> Carbon neutral construction materials are highly topical at the moment as the EU is preparing to introduce carbon tariffs. Wood as a building construction material have two main benefits, one is the less GHG emissions compared to other building material like steel or concrete, and the other is the potential to store carbon. The idea is to evaluate the possibility of replacing high-carbon building material with low-carbon material like wood. During the doctoral study the candidate can go through environmental and economic benefits in addition to the obstacles on the way of improving wood use as a low-carbon building material.</p>\n",
       "<p style=\"text-align: justify;\"><strong>Deadline :</strong> 30.11.2022</p>\n",
       "<p style=\"text-align: justify;\"><a href=\"https://www.aalto.fi/en/open-positions/doctoral-researcher-in-wooden-building-construction\" rel=\"noopener\" target=\"_blank\"><strong>View details &amp; Apply</strong></a></p>\n",
       "<p> </p>\n",
       "<p class=\"elementor-post__title\" style=\"text-align: center;\"><strong><span style=\"font-size: 14pt;\"><em><a href=\"https://vacancyedu.com/top-25-free-statistical-analysis-software/\">List of Top 25 Free Statistical Analysis Software</a></em></span></strong></p>\n",
       "<p> </p>\n",
       "<h4 style=\"text-align: justify;\">About Aalto University, Finland –<a href=\"https://www.aalto.fi/en\" rel=\"noopener\" target=\"_blank\">Official Website</a></h4>\n",
       "<p style=\"text-align: justify;\">Aalto University  is a university located in Espoo, Finland. It was established in 2010 as a merger of three major Finnish universities: the Helsinki University of Technology (established 1849), the Helsinki School of Economics (established 1904), and the University of Art and Design Helsinki (established 1871). The close collaboration between the scientific, business and arts communities is intended to foster multi-disciplinary education and research. The Finnish government, in 2010, set out to create a university that fosters innovation, merging the three institutions into one.</p><div class=\"code-block code-block-10\" style=\"margin: 8px 0; clear: both;\">\n",
       "<script async=\"\" crossorigin=\"anonymous\" src=\"https://pagead2.googlesyndication.com/pagead/js/adsbygoogle.js?client=ca-pub-4660205951955648\" type=\"rocketlazyloadscript\"></script>\n",
       "<!-- Edu Res 14 -->\n",
       "<ins class=\"adsbygoogle\" data-ad-client=\"ca-pub-4660205951955648\" data-ad-format=\"auto\" data-ad-slot=\"1705833955\" data-full-width-responsive=\"true\" style=\"display:block\"></ins>\n",
       "<script type=\"rocketlazyloadscript\">\n",
       "     (adsbygoogle = window.adsbygoogle || []).push({});\n",
       "</script></div>\n",
       "<p style=\"text-align: justify;\">The university is composed of six schools with close to 17,500 students and 4,000 staff members, making it Finland’s second largest university. The main campus of Aalto University is located in Otaniemi, Espoo. Aalto University Executive Education operates in the district of Töölö, Helsinki. In addition to the Greater Helsinki area, the university also operates its Bachelor’s Programme in International Business in Mikkeli and the Metsähovi Radio Observatory in Kirkkonummi.</p>\n",
       "<p style=\"text-align: justify;\">Aalto University’s operations showcase Finland’s experiment in higher education. The Aalto Design Factory, Aalto Ventures Program and Aalto Entrepreneurship Society (Aaltoes), among others, drive the university’s mission for a radical shift towards multidisciplinary learning and have contributed substantially to the emergence of Helsinki as a hotbed for startups.Aaltoes is Europe’s largest and most active student run entrepreneurship community that has founded major concepts such as the Startup Sauna accelerator program and the Slush startup event.</p>\n",
       "<p style=\"text-align: justify;\">The university is named in honour of Alvar Aalto, a prominent Finnish architect, designer and alumnus of the former Helsinki University of Technology, who was also instrumental in designing a large part of the university’s main campus in Otaniemi.</p>\n",
       "<p> </p>\n",
       "<p> </p>\n",
       "<p> </p>\n",
       "<p><strong>Disclaimer:</strong> We try to ensure that the information we post on VacancyEdu.com is accurate. However, despite our best efforts, some of the content may contain errors. You can trust us, but please conduct your own checks too.</p>\n",
       "<p> </p><div class=\"code-block code-block-11\" style=\"margin: 8px 0; clear: both;\">\n",
       "<script async=\"\" crossorigin=\"anonymous\" src=\"https://pagead2.googlesyndication.com/pagead/js/adsbygoogle.js?client=ca-pub-4660205951955648\" type=\"rocketlazyloadscript\"></script>\n",
       "<!-- Edu Res 15 -->\n",
       "<ins class=\"adsbygoogle\" data-ad-client=\"ca-pub-4660205951955648\" data-ad-format=\"auto\" data-ad-slot=\"6069343118\" data-full-width-responsive=\"true\" style=\"display:block\"></ins>\n",
       "<script type=\"rocketlazyloadscript\">\n",
       "     (adsbygoogle = window.adsbygoogle || []).push({});\n",
       "</script></div>\n",
       "<p><em><span style=\"color: #0000ff; font-size: 18pt;\"><strong>Related Posts</strong></span></em></p>\n",
       "<p> </p>\n",
       "<ul class=\"wp-block-latest-posts__list is-grid columns-3 has-dates wp-block-latest-posts\"><li><div class=\"wp-block-latest-posts__featured-image\"><img alt=\"PhD Degree Fully Funded at Aalto University Finland\" class=\"attachment-thumbnail size-thumbnail wp-post-image\" data-lazy-src=\"https://vacancyedu.com/wp-content/uploads/2021/05/Untitled-design-2021-05-26T132459.863-150x150.png\" decoding=\"async\" height=\"150\" src=\"data:image/svg+xml,%3Csvg%20xmlns='http://www.w3.org/2000/svg'%20viewBox='0%200%20150%20150'%3E%3C/svg%3E\" style=\"\" width=\"150\"/><noscript><img alt=\"PhD Degree Fully Funded at Aalto University Finland\" class=\"attachment-thumbnail size-thumbnail wp-post-image\" decoding=\"async\" height=\"150\" src=\"https://vacancyedu.com/wp-content/uploads/2021/05/Untitled-design-2021-05-26T132459.863-150x150.png\" style=\"\" width=\"150\"/></noscript></div><a class=\"wp-block-latest-posts__post-title\" href=\"https://vacancyedu.com/12-phd-degree-fully-funded-at-aalto-university-finland-3/\">12 PhD Degree-Fully Funded at Aalto University, Finland</a><time class=\"wp-block-latest-posts__post-date\" datetime=\"2022-11-29T19:17:44+05:30\">November 29, 2022</time></li>\n",
       "<li><div class=\"wp-block-latest-posts__featured-image\"><img alt=\"PhD Degree - Fully Funded at ETH Zurich, Switzerland\" class=\"attachment-thumbnail size-thumbnail wp-post-image\" data-lazy-src=\"https://vacancyedu.com/wp-content/uploads/2021/08/ETH-Zurich-University-switzerland-1-1024x536-1-150x150.png\" decoding=\"async\" height=\"150\" loading=\"lazy\" src=\"data:image/svg+xml,%3Csvg%20xmlns='http://www.w3.org/2000/svg'%20viewBox='0%200%20150%20150'%3E%3C/svg%3E\" style=\"\" width=\"150\"/><noscript><img alt=\"PhD Degree - Fully Funded at ETH Zurich, Switzerland\" class=\"attachment-thumbnail size-thumbnail wp-post-image\" decoding=\"async\" height=\"150\" loading=\"lazy\" src=\"https://vacancyedu.com/wp-content/uploads/2021/08/ETH-Zurich-University-switzerland-1-1024x536-1-150x150.png\" style=\"\" width=\"150\"/></noscript></div><a class=\"wp-block-latest-posts__post-title\" href=\"https://vacancyedu.com/36-phd-degree-fully-funded-at-eth-zurich-switzerland-2/\">36 PhD Degree-Fully Funded at ETH Zurich, Switzerland</a><time class=\"wp-block-latest-posts__post-date\" datetime=\"2022-11-15T18:43:04+05:30\">November 15, 2022</time></li>\n",
       "<li><div class=\"wp-block-latest-posts__featured-image\"><img alt=\"PhD Degree Fully Funded at Technical University of Denmark (DTU) Denmark\" class=\"attachment-thumbnail size-thumbnail wp-post-image\" data-lazy-src=\"https://vacancyedu.com/wp-content/uploads/2021/08/Untitled-design-96-1-1024x536-1-150x150.png\" decoding=\"async\" height=\"150\" loading=\"lazy\" src=\"data:image/svg+xml,%3Csvg%20xmlns='http://www.w3.org/2000/svg'%20viewBox='0%200%20150%20150'%3E%3C/svg%3E\" style=\"\" width=\"150\"/><noscript><img alt=\"PhD Degree Fully Funded at Technical University of Denmark (DTU) Denmark\" class=\"attachment-thumbnail size-thumbnail wp-post-image\" decoding=\"async\" height=\"150\" loading=\"lazy\" src=\"https://vacancyedu.com/wp-content/uploads/2021/08/Untitled-design-96-1-1024x536-1-150x150.png\" style=\"\" width=\"150\"/></noscript></div><a class=\"wp-block-latest-posts__post-title\" href=\"https://vacancyedu.com/38-phd-degree-fully-funded-at-technical-university-of-denmark-dtu-denmark/\">38 PhD Degree-Fully Funded at Technical University of Denmark (DTU), Denmark</a><time class=\"wp-block-latest-posts__post-date\" datetime=\"2022-11-14T18:59:12+05:30\">November 14, 2022</time></li>\n",
       "<li><div class=\"wp-block-latest-posts__featured-image\"><img alt=\"PhD Degree-Fully Funded at University of Helsinki, Finland\" class=\"attachment-thumbnail size-thumbnail wp-post-image\" data-lazy-src=\"https://vacancyedu.com/wp-content/uploads/2021/05/Untitled-design-2021-05-26T125516.161-150x150.png\" decoding=\"async\" height=\"150\" loading=\"lazy\" src=\"data:image/svg+xml,%3Csvg%20xmlns='http://www.w3.org/2000/svg'%20viewBox='0%200%20150%20150'%3E%3C/svg%3E\" style=\"\" width=\"150\"/><noscript><img alt=\"PhD Degree-Fully Funded at University of Helsinki, Finland\" class=\"attachment-thumbnail size-thumbnail wp-post-image\" decoding=\"async\" height=\"150\" loading=\"lazy\" src=\"https://vacancyedu.com/wp-content/uploads/2021/05/Untitled-design-2021-05-26T125516.161-150x150.png\" style=\"\" width=\"150\"/></noscript></div><a class=\"wp-block-latest-posts__post-title\" href=\"https://vacancyedu.com/05-phd-degree-fully-funded-at-university-of-helsinki-finland-2/\">05 PhD Degree-Fully Funded at University of Helsinki, Finland</a><time class=\"wp-block-latest-posts__post-date\" datetime=\"2022-11-14T13:20:02+05:30\">November 14, 2022</time></li>\n",
       "<li><div class=\"wp-block-latest-posts__featured-image\"><img alt=\"PhD Degree Fully Funded at University of Amsterdam, Netherlands\" class=\"attachment-thumbnail size-thumbnail wp-post-image\" data-lazy-src=\"https://vacancyedu.com/wp-content/uploads/2021/08/Untitled-design-2021-05-23T002105.991-1024x536-1-150x150.png\" decoding=\"async\" height=\"150\" loading=\"lazy\" src=\"data:image/svg+xml,%3Csvg%20xmlns='http://www.w3.org/2000/svg'%20viewBox='0%200%20150%20150'%3E%3C/svg%3E\" style=\"\" width=\"150\"/><noscript><img alt=\"PhD Degree Fully Funded at University of Amsterdam, Netherlands\" class=\"attachment-thumbnail size-thumbnail wp-post-image\" decoding=\"async\" height=\"150\" loading=\"lazy\" src=\"https://vacancyedu.com/wp-content/uploads/2021/08/Untitled-design-2021-05-23T002105.991-1024x536-1-150x150.png\" style=\"\" width=\"150\"/></noscript></div><a class=\"wp-block-latest-posts__post-title\" href=\"https://vacancyedu.com/17-phd-degree-fully-funded-at-university-of-amsterdam-netherlands/\">17 PhD Degree-Fully Funded at University of Amsterdam, Netherlands  </a><time class=\"wp-block-latest-posts__post-date\" datetime=\"2022-11-12T18:55:24+05:30\">November 12, 2022</time></li>\n",
       "<li><div class=\"wp-block-latest-posts__featured-image\"><img alt=\"PhD Degree - Fully Funded at University of Copenhagen, Denmark\" class=\"attachment-thumbnail size-thumbnail wp-post-image\" data-lazy-src=\"https://vacancyedu.com/wp-content/uploads/2021/08/Untitled-design-97-1-1024x536-1-150x150.png\" decoding=\"async\" height=\"150\" loading=\"lazy\" src=\"data:image/svg+xml,%3Csvg%20xmlns='http://www.w3.org/2000/svg'%20viewBox='0%200%20150%20150'%3E%3C/svg%3E\" style=\"\" width=\"150\"/><noscript><img alt=\"PhD Degree - Fully Funded at University of Copenhagen, Denmark\" class=\"attachment-thumbnail size-thumbnail wp-post-image\" decoding=\"async\" height=\"150\" loading=\"lazy\" src=\"https://vacancyedu.com/wp-content/uploads/2021/08/Untitled-design-97-1-1024x536-1-150x150.png\" style=\"\" width=\"150\"/></noscript></div><a class=\"wp-block-latest-posts__post-title\" href=\"https://vacancyedu.com/21-phd-degree-fully-funded-at-university-of-copenhagen-denmark/\">21 PhD Degree-Fully Funded at University of Copenhagen, Denmark</a><time class=\"wp-block-latest-posts__post-date\" datetime=\"2022-11-11T13:40:46+05:30\">November 11, 2022</time></li>\n",
       "<li><div class=\"wp-block-latest-posts__featured-image\"><img alt=\"PhD Degree Fully Funded at Karolinska Institute Sweden\" class=\"attachment-thumbnail size-thumbnail wp-post-image\" data-lazy-src=\"https://vacancyedu.com/wp-content/uploads/2021/07/Untitled-design-89-1-1024x536-1-1-150x150.png\" decoding=\"async\" height=\"150\" loading=\"lazy\" src=\"data:image/svg+xml,%3Csvg%20xmlns='http://www.w3.org/2000/svg'%20viewBox='0%200%20150%20150'%3E%3C/svg%3E\" style=\"\" width=\"150\"/><noscript><img alt=\"PhD Degree Fully Funded at Karolinska Institute Sweden\" class=\"attachment-thumbnail size-thumbnail wp-post-image\" decoding=\"async\" height=\"150\" loading=\"lazy\" src=\"https://vacancyedu.com/wp-content/uploads/2021/07/Untitled-design-89-1-1024x536-1-1-150x150.png\" style=\"\" width=\"150\"/></noscript></div><a class=\"wp-block-latest-posts__post-title\" href=\"https://vacancyedu.com/09-phd-degree-fully-funded-at-karolinska-institute-sweden/\">09 PhD Degree-Fully Funded at Karolinska Institute, Sweden</a><time class=\"wp-block-latest-posts__post-date\" datetime=\"2022-11-09T13:16:38+05:30\">November 9, 2022</time></li>\n",
       "<li><div class=\"wp-block-latest-posts__featured-image\"><img alt=\"PhD Degree - Fully Funded at Umea University Sweden\" class=\"attachment-thumbnail size-thumbnail wp-post-image\" data-lazy-src=\"https://vacancyedu.com/wp-content/uploads/2021/07/Untitled-design-84-1-1024x536-1-150x150.png\" decoding=\"async\" height=\"150\" loading=\"lazy\" src=\"data:image/svg+xml,%3Csvg%20xmlns='http://www.w3.org/2000/svg'%20viewBox='0%200%20150%20150'%3E%3C/svg%3E\" style=\"\" width=\"150\"/><noscript><img alt=\"PhD Degree - Fully Funded at Umea University Sweden\" class=\"attachment-thumbnail size-thumbnail wp-post-image\" decoding=\"async\" height=\"150\" loading=\"lazy\" src=\"https://vacancyedu.com/wp-content/uploads/2021/07/Untitled-design-84-1-1024x536-1-150x150.png\" style=\"\" width=\"150\"/></noscript></div><a class=\"wp-block-latest-posts__post-title\" href=\"https://vacancyedu.com/03-phd-degree-fully-funded-at-umea-university-sweden/\">03 PhD Degree-Fully Funded at Umea University, Sweden </a><time class=\"wp-block-latest-posts__post-date\" datetime=\"2022-11-07T13:28:53+05:30\">November 7, 2022</time></li>\n",
       "<li><div class=\"wp-block-latest-posts__featured-image\"><img alt=\"PhD Degree Fully Funded at Uppsala University Sweden\" class=\"attachment-thumbnail size-thumbnail wp-post-image\" data-lazy-src=\"https://vacancyedu.com/wp-content/uploads/2021/07/Untitled-design-82-1-1024x536-1-150x150.png\" decoding=\"async\" height=\"150\" loading=\"lazy\" src=\"data:image/svg+xml,%3Csvg%20xmlns='http://www.w3.org/2000/svg'%20viewBox='0%200%20150%20150'%3E%3C/svg%3E\" style=\"\" width=\"150\"/><noscript><img alt=\"PhD Degree Fully Funded at Uppsala University Sweden\" class=\"attachment-thumbnail size-thumbnail wp-post-image\" decoding=\"async\" height=\"150\" loading=\"lazy\" src=\"https://vacancyedu.com/wp-content/uploads/2021/07/Untitled-design-82-1-1024x536-1-150x150.png\" style=\"\" width=\"150\"/></noscript></div><a class=\"wp-block-latest-posts__post-title\" href=\"https://vacancyedu.com/15-phd-degree-fully-funded-at-uppsala-university-sweden/\">15 PhD Degree-Fully Funded at Uppsala University, Sweden</a><time class=\"wp-block-latest-posts__post-date\" datetime=\"2022-11-06T18:44:38+05:30\">November 6, 2022</time></li>\n",
       "</ul><br/><div style=\"clear:both\"></div><div class=\"the_champ_sharing_container the_champ_horizontal_sharing\" data-super-socializer-href=\"https://vacancyedu.com/12-phd-degree-fully-funded-at-aalto-university-finland-3/\" data-super-socializer-no-counts=\"1\"><div class=\"the_champ_sharing_title\" style=\"font-weight:bold\">Spread the love</div><div class=\"the_champ_sharing_ul\"><a class=\"the_champ_button_google_gmail\" href=\"https://mail.google.com/mail/?ui=2&amp;view=cm&amp;fs=1&amp;tf=1&amp;su=12%20PhD%20Degree-Fully%20Funded%20at%20Aalto%20University%2C%20Finland&amp;body=Link:https%3A%2F%2Fvacancyedu.com%2F12-phd-degree-fully-funded-at-aalto-university-finland-3%2F\" rel=\"nofollow noopener\" style=\"font-size:24px!important;box-shadow:none;display:inline-block;vertical-align:middle\" target=\"_blank\" title=\"Google Gmail\"><span class=\"the_champ_svg the_champ_s__default the_champ_s_Google_Gmail\" style=\"background-color:#e5e5e5;width:35px;height:35px;display:inline-block;opacity:1;float:left;font-size:24px;box-shadow:none;display:inline-block;font-size:16px;padding:0 4px;vertical-align:middle;background-repeat:repeat;overflow:hidden;padding:0;cursor:pointer;box-sizing:content-box\"><svg aria-hidden=\"true\" focusable=\"false\" height=\"100%\" style=\"display:block;\" viewbox=\"0 0 32 32\" width=\"100%\" xmlns=\"http://www.w3.org/2000/svg\"><path d=\"M2.902 6.223h26.195v19.554H2.902z\" fill=\"#fff\"></path><path class=\"the_champ_no_fill\" d=\"M2.902 25.777h26.195V6.223H2.902v19.554zm22.44-4.007v3.806H6.955v-3.6h.032l.093-.034 6.9-5.558 2.09 1.77 1.854-1.63 7.42 5.246zm0-.672l-7.027-4.917 7.028-6.09V21.1zm-1.17-14.67l-.947.905c-2.356 2.284-4.693 4.75-7.17 6.876l-.078.06L8.062 6.39l16.11.033zm-10.597 9.61l-6.62 5.294.016-10.914 6.607 5.62\" fill=\"#E14C41\"></path></svg></span></a><a class=\"the_champ_facebook\" href=\"https://www.facebook.com/sharer/sharer.php?u=https%3A%2F%2Fvacancyedu.com%2F12-phd-degree-fully-funded-at-aalto-university-finland-3%2F\" rel=\"nofollow noopener\" style=\"font-size:24px!important;box-shadow:none;display:inline-block;vertical-align:middle\" target=\"_blank\" title=\"Facebook\"><span class=\"the_champ_svg\" style=\"background-color:#3c589a;width:35px;height:35px;display:inline-block;opacity:1;float:left;font-size:24px;box-shadow:none;display:inline-block;font-size:16px;padding:0 4px;vertical-align:middle;background-repeat:repeat;overflow:hidden;padding:0;cursor:pointer;box-sizing:content-box\"><svg aria-hidden=\"true\" focusable=\"false\" height=\"100%\" style=\"display:block;\" viewbox=\"-5 -5 42 42\" width=\"100%\" xmlns=\"http://www.w3.org/2000/svg\"><path d=\"M17.78 27.5V17.008h3.522l.527-4.09h-4.05v-2.61c0-1.182.33-1.99 2.023-1.99h2.166V4.66c-.375-.05-1.66-.16-3.155-.16-3.123 0-5.26 1.905-5.26 5.405v3.016h-3.53v4.09h3.53V27.5h4.223z\" fill=\"#fff\"></path></svg></span></a><a class=\"the_champ_button_twitter\" href=\"https://twitter.com/intent/tweet?text=12%20PhD%20Degree-Fully%20Funded%20at%20Aalto%20University%2C%20Finland&amp;url=https%3A%2F%2Fvacancyedu.com%2F12-phd-degree-fully-funded-at-aalto-university-finland-3%2F\" rel=\"nofollow noopener\" style=\"font-size:24px!important;box-shadow:none;display:inline-block;vertical-align:middle\" target=\"_blank\" title=\"Twitter\"><span class=\"the_champ_svg the_champ_s__default the_champ_s_twitter\" style=\"background-color:#55acee;width:35px;height:35px;display:inline-block;opacity:1;float:left;font-size:24px;box-shadow:none;display:inline-block;font-size:16px;padding:0 4px;vertical-align:middle;background-repeat:repeat;overflow:hidden;padding:0;cursor:pointer;box-sizing:content-box\"><svg aria-hidden=\"true\" focusable=\"false\" height=\"100%\" style=\"display:block;\" viewbox=\"-4 -4 39 39\" width=\"100%\" xmlns=\"http://www.w3.org/2000/svg\"><path d=\"M28 8.557a9.913 9.913 0 0 1-2.828.775 4.93 4.93 0 0 0 2.166-2.725 9.738 9.738 0 0 1-3.13 1.194 4.92 4.92 0 0 0-3.593-1.55 4.924 4.924 0 0 0-4.794 6.049c-4.09-.21-7.72-2.17-10.15-5.15a4.942 4.942 0 0 0-.665 2.477c0 1.71.87 3.214 2.19 4.1a4.968 4.968 0 0 1-2.23-.616v.06c0 2.39 1.7 4.38 3.952 4.83-.414.115-.85.174-1.297.174-.318 0-.626-.03-.928-.086a4.935 4.935 0 0 0 4.6 3.42 9.893 9.893 0 0 1-6.114 2.107c-.398 0-.79-.023-1.175-.068a13.953 13.953 0 0 0 7.55 2.213c9.056 0 14.01-7.507 14.01-14.013 0-.213-.005-.426-.015-.637.96-.695 1.795-1.56 2.455-2.55z\" fill=\"#fff\"></path></svg></span></a><a class=\"the_champ_button_linkedin\" href=\"https://www.linkedin.com/shareArticle?mini=true&amp;url=https%3A%2F%2Fvacancyedu.com%2F12-phd-degree-fully-funded-at-aalto-university-finland-3%2F&amp;title=12%20PhD%20Degree-Fully%20Funded%20at%20Aalto%20University%2C%20Finland\" rel=\"nofollow noopener\" style=\"font-size:24px!important;box-shadow:none;display:inline-block;vertical-align:middle\" target=\"_blank\" title=\"Linkedin\"><span class=\"the_champ_svg the_champ_s__default the_champ_s_linkedin\" style=\"background-color:#0077b5;width:35px;height:35px;display:inline-block;opacity:1;float:left;font-size:24px;box-shadow:none;display:inline-block;font-size:16px;padding:0 4px;vertical-align:middle;background-repeat:repeat;overflow:hidden;padding:0;cursor:pointer;box-sizing:content-box\"><svg aria-hidden=\"true\" focusable=\"false\" height=\"100%\" style=\"display:block;\" viewbox=\"0 0 32 32\" width=\"100%\" xmlns=\"http://www.w3.org/2000/svg\"><path d=\"M6.227 12.61h4.19v13.48h-4.19V12.61zm2.095-6.7a2.43 2.43 0 0 1 0 4.86c-1.344 0-2.428-1.09-2.428-2.43s1.084-2.43 2.428-2.43m4.72 6.7h4.02v1.84h.058c.56-1.058 1.927-2.176 3.965-2.176 4.238 0 5.02 2.792 5.02 6.42v7.395h-4.183v-6.56c0-1.564-.03-3.574-2.178-3.574-2.18 0-2.514 1.7-2.514 3.46v6.668h-4.187V12.61z\" fill=\"#fff\"></path></svg></span></a><a class=\"the_champ_button_instagram\" href=\"https://www.instagram.com/\" rel=\"nofollow noopener\" style=\"font-size:24px!important;box-shadow:none;display:inline-block;vertical-align:middle\" target=\"_blank\" title=\"Instagram\"><span class=\"the_champ_svg\" style=\"background-color:#53beee;width:35px;height:35px;display:inline-block;opacity:1;float:left;font-size:24px;box-shadow:none;display:inline-block;font-size:16px;padding:0 4px;vertical-align:middle;background-repeat:repeat;overflow:hidden;padding:0;cursor:pointer;box-sizing:content-box\"><svg height=\"100%\" style=\"display:block;\" version=\"1.1\" viewbox=\"-10 -10 148 148\" width=\"100%\" xml:space=\"preserve\" xmlns=\"http://www.w3.org/2000/svg\" xmlns:xlink=\"http://www.w3.org/1999/xlink\"><g><g><path d=\"M86,112H42c-14.336,0-26-11.663-26-26V42c0-14.337,11.664-26,26-26h44c14.337,0,26,11.663,26,26v44 C112,100.337,100.337,112,86,112z M42,24c-9.925,0-18,8.074-18,18v44c0,9.925,8.075,18,18,18h44c9.926,0,18-8.075,18-18V42 c0-9.926-8.074-18-18-18H42z\" fill=\"#fff\"></path></g><g><path d=\"M64,88c-13.234,0-24-10.767-24-24c0-13.234,10.766-24,24-24s24,10.766,24,24C88,77.233,77.234,88,64,88z M64,48c-8.822,0-16,7.178-16,16s7.178,16,16,16c8.822,0,16-7.178,16-16S72.822,48,64,48z\" fill=\"#fff\"></path></g><g><circle cx=\"89.5\" cy=\"38.5\" fill=\"#fff\" r=\"5.5\"></circle></g></g></svg></span></a><a class=\"the_champ_whatsapp\" href=\"https://api.whatsapp.com/send?text=12%20PhD%20Degree-Fully%20Funded%20at%20Aalto%20University%2C%20Finland https%3A%2F%2Fvacancyedu.com%2F12-phd-degree-fully-funded-at-aalto-university-finland-3%2F\" rel=\"nofollow noopener\" style=\"font-size:24px!important;box-shadow:none;display:inline-block;vertical-align:middle\" target=\"_blank\" title=\"Whatsapp\"><span class=\"the_champ_svg\" style=\"background-color:#55eb4c;width:35px;height:35px;display:inline-block;opacity:1;float:left;font-size:24px;box-shadow:none;display:inline-block;font-size:16px;padding:0 4px;vertical-align:middle;background-repeat:repeat;overflow:hidden;padding:0;cursor:pointer;box-sizing:content-box\"><svg aria-hidden=\"true\" focusable=\"false\" height=\"100%\" style=\"display:block;\" viewbox=\"-6 -5 40 40\" width=\"100%\" xmlns=\"http://www.w3.org/2000/svg\"><path class=\"the_champ_svg_stroke the_champ_no_fill\" d=\"M 11.579798566743314 24.396926207859085 A 10 10 0 1 0 6.808479557110079 20.73576436351046\" fill=\"none\" stroke=\"#fff\" stroke-width=\"2\"></path><path class=\"the_champ_no_fill the_champ_svg_stroke\" d=\"M 7 19 l -1 6 l 6 -1\" fill=\"none\" stroke=\"#fff\" stroke-width=\"2\"></path><path d=\"M 10 10 q -1 8 8 11 c 5 -1 0 -6 -1 -3 q -4 -3 -5 -5 c 4 -2 -1 -5 -1 -4\" fill=\"#fff\"></path></svg></span></a><a class=\"the_champ_button_telegram\" href=\"https://telegram.me/share/url?url=https%3A%2F%2Fvacancyedu.com%2F12-phd-degree-fully-funded-at-aalto-university-finland-3%2F&amp;text=12%20PhD%20Degree-Fully%20Funded%20at%20Aalto%20University%2C%20Finland\" rel=\"nofollow noopener\" style=\"font-size:24px!important;box-shadow:none;display:inline-block;vertical-align:middle\" target=\"_blank\" title=\"Telegram\"><span class=\"the_champ_svg the_champ_s__default the_champ_s_telegram\" style=\"background-color:#3da5f1;width:35px;height:35px;display:inline-block;opacity:1;float:left;font-size:24px;box-shadow:none;display:inline-block;font-size:16px;padding:0 4px;vertical-align:middle;background-repeat:repeat;overflow:hidden;padding:0;cursor:pointer;box-sizing:content-box\"><svg aria-hidden=\"true\" focusable=\"false\" height=\"100%\" style=\"display:block;\" viewbox=\"0 0 32 32\" width=\"100%\" xmlns=\"http://www.w3.org/2000/svg\"><path d=\"M25.515 6.896L6.027 14.41c-1.33.534-1.322 1.276-.243 1.606l5 1.56 1.72 5.66c.226.625.115.873.77.873.506 0 .73-.235 1.012-.51l2.43-2.363 5.056 3.734c.93.514 1.602.25 1.834-.863l3.32-15.638c.338-1.363-.52-1.98-1.41-1.577z\" fill=\"#fff\"></path></svg></span></a><a class=\"the_champ_button_yahoo_mail\" href=\"//compose.mail.yahoo.com/?Subject=12%20PhD%20Degree-Fully%20Funded%20at%20Aalto%20University%2C%20Finland&amp;body=Link:https%3A%2F%2Fvacancyedu.com%2F12-phd-degree-fully-funded-at-aalto-university-finland-3%2F\" rel=\"nofollow noopener\" style=\"font-size:24px!important;box-shadow:none;display:inline-block;vertical-align:middle\" target=\"_blank\" title=\"Yahoo Mail\"><span class=\"the_champ_svg the_champ_s__default the_champ_s_yahoo\" style=\"background-color:#400090;width:35px;height:35px;display:inline-block;opacity:1;float:left;font-size:24px;box-shadow:none;display:inline-block;font-size:16px;padding:0 4px;vertical-align:middle;background-repeat:repeat;overflow:hidden;padding:0;cursor:pointer;box-sizing:content-box\"><svg aria-hidden=\"true\" focusable=\"false\" height=\"100%\" style=\"display:block;\" viewbox=\"0 0 32 32\" width=\"100%\" xmlns=\"http://www.w3.org/2000/svg\"><path d=\"M21.495 6.097c1.09.31 2.213.28 3.304 0l-7.42 12.09v9.91a4.366 4.366 0 0 0-1.37-.22c-.47 0-.937.065-1.404.22v-9.91L7.19 6.097c1.09.28 2.213.31 3.304 0l5.516 8.788 5.483-8.787z\" fill=\"#fff\"></path></svg></span></a><a class=\"the_champ_more\" href=\"https://vacancyedu.com/12-phd-degree-fully-funded-at-aalto-university-finland-3/\" onclick=\"event.preventDefault()\" rel=\"nofollow noopener\" style=\"font-size:24px!important;border:0;box-shadow:none;display:inline-block!important;font-size:16px;padding:0 4px;vertical-align: middle;display:inline;\" title=\"More\"><span class=\"the_champ_svg\" onclick=\"theChampMoreSharingPopup(this, 'https://vacancyedu.com/12-phd-degree-fully-funded-at-aalto-university-finland-3/', '12%20PhD%20Degree-Fully%20Funded%20at%20Aalto%20University%2C%20Finland', '' )\" style=\"background-color:#ee8e2d;width:35px;height:35px;display:inline-block!important;opacity:1;float:left;font-size:32px!important;box-shadow:none;display:inline-block;font-size:16px;padding:0 4px;vertical-align:middle;display:inline;background-repeat:repeat;overflow:hidden;padding:0;cursor:pointer;box-sizing:content-box;\"><svg height=\"100%\" style=\"display:block;\" version=\"1.1\" viewbox=\"-.3 0 32 32\" width=\"100%\" xml:space=\"preserve\" xmlns=\"http://www.w3.org/2000/svg\" xmlns:xlink=\"http://www.w3.org/1999/xlink\"><g><path d=\"M18 14V8h-4v6H8v4h6v6h4v-6h6v-4h-6z\" fill=\"#fff\" fill-rule=\"evenodd\"></path></g></svg></span></a><a class=\"theChampSharingRound\" style=\"font-size:24px!important;box-shadow:none;display:inline-block!important;font-size: 16px;padding: 0 4px;vertical-align:middle;display:inline;\"><div class=\"theChampSharing theChampTCBackground\" style=\"width:35px;height:35px;margin-left:9px !important;\" title=\"Total Shares\"></div></a></div></div><div style=\"clear:both\"></div><div class=\"the_champ_sharing_container the_champ_vertical_sharing the_champ_hide_sharing the_champ_bottom_sharing\" data-super-socializer-href=\"https://vacancyedu.com/12-phd-degree-fully-funded-at-aalto-university-finland-3/\" data-super-socializer-no-counts=\"1\" style=\"width:44px;left: -10px;top: 100px;-webkit-box-shadow:none;box-shadow:none;\"><div class=\"the_champ_sharing_ul\"><a class=\"the_champ_facebook\" href=\"https://www.facebook.com/sharer/sharer.php?u=https%3A%2F%2Fvacancyedu.com%2F12-phd-degree-fully-funded-at-aalto-university-finland-3%2F\" rel=\"nofollow noopener\" style=\"font-size:24px!important;box-shadow:none;display:inline-block;vertical-align:middle\" target=\"_blank\" title=\"Facebook\"><span class=\"the_champ_svg\" style=\"background-color:#3c589a;width:40px;height:40px;margin:0;display:inline-block;opacity:1;float:left;font-size:24px;box-shadow:none;display:inline-block;font-size:16px;padding:0 4px;vertical-align:middle;background-repeat:repeat;overflow:hidden;padding:0;cursor:pointer;box-sizing:content-box\"><svg aria-hidden=\"true\" focusable=\"false\" height=\"100%\" style=\"display:block;\" viewbox=\"-5 -5 42 42\" width=\"100%\" xmlns=\"http://www.w3.org/2000/svg\"><path d=\"M17.78 27.5V17.008h3.522l.527-4.09h-4.05v-2.61c0-1.182.33-1.99 2.023-1.99h2.166V4.66c-.375-.05-1.66-.16-3.155-.16-3.123 0-5.26 1.905-5.26 5.405v3.016h-3.53v4.09h3.53V27.5h4.223z\" fill=\"#fff\"></path></svg></span></a><a class=\"the_champ_button_twitter\" href=\"https://twitter.com/intent/tweet?text=12%20PhD%20Degree-Fully%20Funded%20at%20Aalto%20University%2C%20Finland&amp;url=https%3A%2F%2Fvacancyedu.com%2F12-phd-degree-fully-funded-at-aalto-university-finland-3%2F\" rel=\"nofollow noopener\" style=\"font-size:24px!important;box-shadow:none;display:inline-block;vertical-align:middle\" target=\"_blank\" title=\"Twitter\"><span class=\"the_champ_svg the_champ_s__default the_champ_s_twitter\" style=\"background-color:#55acee;width:40px;height:40px;margin:0;display:inline-block;opacity:1;float:left;font-size:24px;box-shadow:none;display:inline-block;font-size:16px;padding:0 4px;vertical-align:middle;background-repeat:repeat;overflow:hidden;padding:0;cursor:pointer;box-sizing:content-box\"><svg aria-hidden=\"true\" focusable=\"false\" height=\"100%\" style=\"display:block;\" viewbox=\"-4 -4 39 39\" width=\"100%\" xmlns=\"http://www.w3.org/2000/svg\"><path d=\"M28 8.557a9.913 9.913 0 0 1-2.828.775 4.93 4.93 0 0 0 2.166-2.725 9.738 9.738 0 0 1-3.13 1.194 4.92 4.92 0 0 0-3.593-1.55 4.924 4.924 0 0 0-4.794 6.049c-4.09-.21-7.72-2.17-10.15-5.15a4.942 4.942 0 0 0-.665 2.477c0 1.71.87 3.214 2.19 4.1a4.968 4.968 0 0 1-2.23-.616v.06c0 2.39 1.7 4.38 3.952 4.83-.414.115-.85.174-1.297.174-.318 0-.626-.03-.928-.086a4.935 4.935 0 0 0 4.6 3.42 9.893 9.893 0 0 1-6.114 2.107c-.398 0-.79-.023-1.175-.068a13.953 13.953 0 0 0 7.55 2.213c9.056 0 14.01-7.507 14.01-14.013 0-.213-.005-.426-.015-.637.96-.695 1.795-1.56 2.455-2.55z\" fill=\"#fff\"></path></svg></span></a><a class=\"the_champ_button_linkedin\" href=\"https://www.linkedin.com/shareArticle?mini=true&amp;url=https%3A%2F%2Fvacancyedu.com%2F12-phd-degree-fully-funded-at-aalto-university-finland-3%2F&amp;title=12%20PhD%20Degree-Fully%20Funded%20at%20Aalto%20University%2C%20Finland\" rel=\"nofollow noopener\" style=\"font-size:24px!important;box-shadow:none;display:inline-block;vertical-align:middle\" target=\"_blank\" title=\"Linkedin\"><span class=\"the_champ_svg the_champ_s__default the_champ_s_linkedin\" style=\"background-color:#0077b5;width:40px;height:40px;margin:0;display:inline-block;opacity:1;float:left;font-size:24px;box-shadow:none;display:inline-block;font-size:16px;padding:0 4px;vertical-align:middle;background-repeat:repeat;overflow:hidden;padding:0;cursor:pointer;box-sizing:content-box\"><svg aria-hidden=\"true\" focusable=\"false\" height=\"100%\" style=\"display:block;\" viewbox=\"0 0 32 32\" width=\"100%\" xmlns=\"http://www.w3.org/2000/svg\"><path d=\"M6.227 12.61h4.19v13.48h-4.19V12.61zm2.095-6.7a2.43 2.43 0 0 1 0 4.86c-1.344 0-2.428-1.09-2.428-2.43s1.084-2.43 2.428-2.43m4.72 6.7h4.02v1.84h.058c.56-1.058 1.927-2.176 3.965-2.176 4.238 0 5.02 2.792 5.02 6.42v7.395h-4.183v-6.56c0-1.564-.03-3.574-2.178-3.574-2.18 0-2.514 1.7-2.514 3.46v6.668h-4.187V12.61z\" fill=\"#fff\"></path></svg></span></a><a class=\"the_champ_button_pinterest\" onclick=\"javascript:void((function(){var e=document.createElement('script');e.setAttribute('type','text/javascript');e.setAttribute('charset','UTF-8');e.setAttribute('src','//assets.pinterest.com/js/pinmarklet.js?r='+Math.random()*99999999);document.body.appendChild(e)})());\" rel=\"nofollow noopener\" style=\"font-size:24px!important;box-shadow:none;display:inline-block;vertical-align:middle\" title=\"Pinterest\"><span class=\"the_champ_svg the_champ_s__default the_champ_s_pinterest\" style=\"background-color:#cc2329;width:40px;height:40px;margin:0;display:inline-block;opacity:1;float:left;font-size:24px;box-shadow:none;display:inline-block;font-size:16px;padding:0 4px;vertical-align:middle;background-repeat:repeat;overflow:hidden;padding:0;cursor:pointer;box-sizing:content-box\"><svg aria-hidden=\"true\" focusable=\"false\" height=\"100%\" style=\"display:block;\" viewbox=\"-2 -2 35 35\" width=\"100%\" xmlns=\"http://www.w3.org/2000/svg\"><path d=\"M16.539 4.5c-6.277 0-9.442 4.5-9.442 8.253 0 2.272.86 4.293 2.705 5.046.303.125.574.005.662-.33.061-.231.205-.816.27-1.06.088-.331.053-.447-.191-.736-.532-.627-.873-1.439-.873-2.591 0-3.338 2.498-6.327 6.505-6.327 3.548 0 5.497 2.168 5.497 5.062 0 3.81-1.686 7.025-4.188 7.025-1.382 0-2.416-1.142-2.085-2.545.397-1.674 1.166-3.48 1.166-4.689 0-1.081-.581-1.983-1.782-1.983-1.413 0-2.548 1.462-2.548 3.419 0 1.247.421 2.091.421 2.091l-1.699 7.199c-.505 2.137-.076 4.755-.039 5.019.021.158.223.196.314.077.13-.17 1.813-2.247 2.384-4.324.162-.587.929-3.631.929-3.631.46.876 1.801 1.646 3.227 1.646 4.247 0 7.128-3.871 7.128-9.053.003-3.918-3.317-7.568-8.361-7.568z\" fill=\"#fff\"></path></svg></span></a><a class=\"the_champ_button_reddit\" href=\"http://reddit.com/submit?url=https%3A%2F%2Fvacancyedu.com%2F12-phd-degree-fully-funded-at-aalto-university-finland-3%2F&amp;title=12%20PhD%20Degree-Fully%20Funded%20at%20Aalto%20University%2C%20Finland\" rel=\"nofollow noopener\" style=\"font-size:24px!important;box-shadow:none;display:inline-block;vertical-align:middle\" target=\"_blank\" title=\"Reddit\"><span class=\"the_champ_svg the_champ_s__default the_champ_s_reddit\" style=\"background-color:#ff5700;width:40px;height:40px;margin:0;display:inline-block;opacity:1;float:left;font-size:24px;box-shadow:none;display:inline-block;font-size:16px;padding:0 4px;vertical-align:middle;background-repeat:repeat;overflow:hidden;padding:0;cursor:pointer;box-sizing:content-box\"><svg aria-hidden=\"true\" focusable=\"false\" height=\"100%\" style=\"display:block;\" viewbox=\"-3.5 -3.5 39 39\" width=\"100%\" xmlns=\"http://www.w3.org/2000/svg\"><path d=\"M28.543 15.774a2.953 2.953 0 0 0-2.951-2.949 2.882 2.882 0 0 0-1.9.713 14.075 14.075 0 0 0-6.85-2.044l1.38-4.349 3.768.884a2.452 2.452 0 1 0 .24-1.176l-4.274-1a.6.6 0 0 0-.709.4l-1.659 5.224a14.314 14.314 0 0 0-7.316 2.029 2.908 2.908 0 0 0-1.872-.681 2.942 2.942 0 0 0-1.618 5.4 5.109 5.109 0 0 0-.062.765c0 4.158 5.037 7.541 11.229 7.541s11.22-3.383 11.22-7.541a5.2 5.2 0 0 0-.053-.706 2.963 2.963 0 0 0 1.427-2.51zm-18.008 1.88a1.753 1.753 0 0 1 1.73-1.74 1.73 1.73 0 0 1 1.709 1.74 1.709 1.709 0 0 1-1.709 1.711 1.733 1.733 0 0 1-1.73-1.711zm9.565 4.968a5.573 5.573 0 0 1-4.081 1.272h-.032a5.576 5.576 0 0 1-4.087-1.272.6.6 0 0 1 .844-.854 4.5 4.5 0 0 0 3.238.927h.032a4.5 4.5 0 0 0 3.237-.927.6.6 0 1 1 .844.854zm-.331-3.256a1.726 1.726 0 1 1 1.709-1.712 1.717 1.717 0 0 1-1.712 1.712z\" fill=\"#fff\"></path></svg></span></a><a class=\"the_champ_whatsapp\" href=\"https://api.whatsapp.com/send?text=12%20PhD%20Degree-Fully%20Funded%20at%20Aalto%20University%2C%20Finland https%3A%2F%2Fvacancyedu.com%2F12-phd-degree-fully-funded-at-aalto-university-finland-3%2F\" rel=\"nofollow noopener\" style=\"font-size:24px!important;box-shadow:none;display:inline-block;vertical-align:middle\" target=\"_blank\" title=\"Whatsapp\"><span class=\"the_champ_svg\" style=\"background-color:#55eb4c;width:40px;height:40px;margin:0;display:inline-block;opacity:1;float:left;font-size:24px;box-shadow:none;display:inline-block;font-size:16px;padding:0 4px;vertical-align:middle;background-repeat:repeat;overflow:hidden;padding:0;cursor:pointer;box-sizing:content-box\"><svg aria-hidden=\"true\" focusable=\"false\" height=\"100%\" style=\"display:block;\" viewbox=\"-6 -5 40 40\" width=\"100%\" xmlns=\"http://www.w3.org/2000/svg\"><path class=\"the_champ_svg_stroke the_champ_no_fill\" d=\"M 11.579798566743314 24.396926207859085 A 10 10 0 1 0 6.808479557110079 20.73576436351046\" fill=\"none\" stroke=\"#fff\" stroke-width=\"2\"></path><path class=\"the_champ_no_fill the_champ_svg_stroke\" d=\"M 7 19 l -1 6 l 6 -1\" fill=\"none\" stroke=\"#fff\" stroke-width=\"2\"></path><path d=\"M 10 10 q -1 8 8 11 c 5 -1 0 -6 -1 -3 q -4 -3 -5 -5 c 4 -2 -1 -5 -1 -4\" fill=\"#fff\"></path></svg></span></a><a class=\"the_champ_more\" href=\"https://vacancyedu.com/12-phd-degree-fully-funded-at-aalto-university-finland-3/\" onclick=\"event.preventDefault()\" rel=\"nofollow noopener\" style=\"font-size:24px!important;border:0;box-shadow:none;display:inline-block!important;font-size:16px;padding:0 4px;vertical-align: middle;display:inline;\" title=\"More\"><span class=\"the_champ_svg\" onclick=\"theChampMoreSharingPopup(this, 'https://vacancyedu.com/12-phd-degree-fully-funded-at-aalto-university-finland-3/', '12%20PhD%20Degree-Fully%20Funded%20at%20Aalto%20University%2C%20Finland', '' )\" style=\"background-color:#ee8e2d;width:40px;height:40px;margin:0;display:inline-block!important;opacity:1;float:left;font-size:32px!important;box-shadow:none;display:inline-block;font-size:16px;padding:0 4px;vertical-align:middle;display:inline;background-repeat:repeat;overflow:hidden;padding:0;cursor:pointer;box-sizing:content-box;\"><svg height=\"100%\" style=\"display:block;\" version=\"1.1\" viewbox=\"-.3 0 32 32\" width=\"100%\" xml:space=\"preserve\" xmlns=\"http://www.w3.org/2000/svg\" xmlns:xlink=\"http://www.w3.org/1999/xlink\"><g><path d=\"M18 14V8h-4v6H8v4h6v6h4v-6h6v-4h-6z\" fill=\"#fff\" fill-rule=\"evenodd\"></path></g></svg></span></a></div></div><!-- AI CONTENT END 1 -->\n",
       "</div>\n",
       "</div>\n",
       "</article>\n",
       "<div class=\"comments-area\">\n",
       "<div id=\"comments\">\n",
       "<div class=\"comment-respond\" id=\"respond\">\n",
       "<h3 class=\"comment-reply-title\" id=\"reply-title\">Leave a Comment <small><a href=\"/12-phd-degree-fully-funded-at-aalto-university-finland-3/#respond\" id=\"cancel-comment-reply-link\" rel=\"nofollow\" style=\"display:none;\">Cancel reply</a></small></h3><form action=\"https://vacancyedu.com/wp-comments-post.php\" class=\"comment-form\" id=\"commentform\" method=\"post\" novalidate=\"\"><p class=\"comment-form-comment\"><label class=\"screen-reader-text\" for=\"comment\">Comment</label><textarea cols=\"45\" id=\"comment\" name=\"comment\" required=\"\" rows=\"8\"></textarea></p><label class=\"screen-reader-text\" for=\"author\">Name</label><input id=\"author\" name=\"author\" placeholder=\"Name *\" required=\"\" size=\"30\" type=\"text\" value=\"\"/>\n",
       "<label class=\"screen-reader-text\" for=\"email\">Email</label><input id=\"email\" name=\"email\" placeholder=\"Email *\" required=\"\" size=\"30\" type=\"email\" value=\"\"/>\n",
       "<label class=\"screen-reader-text\" for=\"url\">Website</label><input id=\"url\" name=\"url\" placeholder=\"Website\" size=\"30\" type=\"url\" value=\"\"/>\n",
       "<p class=\"comment-form-cookies-consent\"><input id=\"wp-comment-cookies-consent\" name=\"wp-comment-cookies-consent\" type=\"checkbox\" value=\"yes\"/> <label for=\"wp-comment-cookies-consent\">Save my name, email, and website in this browser for the next time I comment.</label></p>\n",
       "<p class=\"form-submit\"><input class=\"submit\" id=\"submit\" name=\"submit\" type=\"submit\" value=\"Post Comment\"/> <input id=\"comment_post_ID\" name=\"comment_post_ID\" type=\"hidden\" value=\"10162\"/>\n",
       "<input id=\"comment_parent\" name=\"comment_parent\" type=\"hidden\" value=\"0\"/>\n",
       "</p></form> </div><!-- #respond -->\n",
       "</div><!-- #comments -->\n",
       "</div>\n",
       "</main>\n",
       "</div>\n",
       "<div class=\"widget-area sidebar is-right-sidebar\" id=\"right-sidebar\">\n",
       "<div class=\"inside-right-sidebar\">\n",
       "<aside class=\"widget_text widget inner-padding widget_custom_html\" id=\"custom_html-11\"><div class=\"textwidget custom-html-widget\"><script async=\"\" crossorigin=\"anonymous\" src=\"https://pagead2.googlesyndication.com/pagead/js/adsbygoogle.js?client=ca-pub-4660205951955648\" type=\"rocketlazyloadscript\"></script>\n",
       "<ins class=\"adsbygoogle\" data-ad-client=\"ca-pub-4660205951955648\" data-ad-format=\"autorelaxed\" data-ad-slot=\"1038608093\" style=\"display:block\"></ins>\n",
       "<script type=\"rocketlazyloadscript\">\n",
       "     (adsbygoogle = window.adsbygoogle || []).push({});\n",
       "</script></div></aside><aside class=\"widget_text widget inner-padding widget_custom_html\" id=\"custom_html-8\"><h2 class=\"widget-title\">Subscribe us</h2><div class=\"textwidget custom-html-widget\"><!-- Begin Mailchimp Signup Form -->\n",
       "<style type=\"text/css\">\n",
       "\t#mc_embed_signup{background:#fff; clear:left; font:14px Helvetica,Arial,sans-serif; }\n",
       "\t/* Add your own Mailchimp form style overrides in your site stylesheet or in this style block.\n",
       "\t   We recommend moving this block and the preceding CSS link to the HEAD of your HTML file. */\n",
       "</style>\n",
       "<div id=\"mc_embed_signup\">\n",
       "<form action=\"https://gmail.us1.list-manage.com/subscribe/post?u=970d7af4367ab2e680c328226&amp;id=531aea65d8\" class=\"validate\" id=\"mc-embedded-subscribe-form\" method=\"post\" name=\"mc-embedded-subscribe-form\" novalidate=\"\" target=\"_blank\">\n",
       "<div id=\"mc_embed_signup_scroll\">\n",
       "<div class=\"mc-field-group\">\n",
       "<label for=\"mce-EMAIL\">Email Address </label>\n",
       "<input class=\"required email\" id=\"mce-EMAIL\" name=\"EMAIL\" type=\"email\" value=\"\"/>\n",
       "</div>\n",
       "<div class=\"clear\" id=\"mce-responses\">\n",
       "<div class=\"response\" id=\"mce-error-response\" style=\"display:none\"></div>\n",
       "<div class=\"response\" id=\"mce-success-response\" style=\"display:none\"></div>\n",
       "</div> <!-- real people should not fill this in and expect good things - do not remove this or risk form bot signups-->\n",
       "<div aria-hidden=\"true\" style=\"position: absolute; left: -5000px;\"><input name=\"b_970d7af4367ab2e680c328226_531aea65d8\" tabindex=\"-1\" type=\"text\" value=\"\"/></div>\n",
       "<div class=\"clear\"><input class=\"button\" id=\"mc-embedded-subscribe\" name=\"subscribe\" type=\"submit\" value=\"Subscribe\"/></div>\n",
       "</div>\n",
       "</form>\n",
       "</div>\n",
       "<!--End mc_embed_signup--></div></aside><aside class=\"widget_text widget inner-padding widget_custom_html\" id=\"custom_html-3\"><div class=\"textwidget custom-html-widget\"><script async=\"\" crossorigin=\"anonymous\" src=\"https://pagead2.googlesyndication.com/pagead/js/adsbygoogle.js?client=ca-pub-4660205951955648\" type=\"rocketlazyloadscript\"></script>\n",
       "<!-- Edu Res Home 05 -->\n",
       "<ins class=\"adsbygoogle\" data-ad-client=\"ca-pub-4660205951955648\" data-ad-format=\"auto\" data-ad-slot=\"6264403051\" data-full-width-responsive=\"true\" style=\"display:block\"></ins>\n",
       "<script type=\"rocketlazyloadscript\">\n",
       "     (adsbygoogle = window.adsbygoogle || []).push({});\n",
       "</script></div></aside><aside class=\"widget_text widget inner-padding widget_custom_html\" id=\"custom_html-9\"><h2 class=\"widget-title\">Find us on Facebook</h2><div class=\"textwidget custom-html-widget\"><div id=\"fb-root\"></div>\n",
       "<script async=\"\" crossorigin=\"anonymous\" defer=\"\" nonce=\"gv4gKpik\" src=\"https://connect.facebook.net/en_US/sdk.js#xfbml=1&amp;version=v10.0\" type=\"rocketlazyloadscript\"></script>\n",
       "<div class=\"fb-page\" data-adapt-container-width=\"true\" data-height=\"130\" data-hide-cover=\"false\" data-href=\"https://www.facebook.com/vacancyedu/\" data-show-facepile=\"true\" data-small-header=\"false\" data-tabs=\"timeline\" data-width=\"265\"><blockquote cite=\"https://www.facebook.com/vacancyedu/\" class=\"fb-xfbml-parse-ignore\"><a href=\"https://www.facebook.com/vacancyedu/\">Vacancy Edu</a></blockquote></div></div></aside><aside class=\"widget_text widget inner-padding widget_custom_html\" id=\"custom_html-4\"><div class=\"textwidget custom-html-widget\"><script async=\"\" crossorigin=\"anonymous\" src=\"https://pagead2.googlesyndication.com/pagead/js/adsbygoogle.js?client=ca-pub-4660205951955648\" type=\"rocketlazyloadscript\"></script>\n",
       "<!-- Edu Res Hori 01 -->\n",
       "<ins class=\"adsbygoogle\" data-ad-client=\"ca-pub-4660205951955648\" data-ad-format=\"auto\" data-ad-slot=\"5889816774\" data-full-width-responsive=\"true\" style=\"display:block\"></ins>\n",
       "<script type=\"rocketlazyloadscript\">\n",
       "     (adsbygoogle = window.adsbygoogle || []).push({});\n",
       "</script></div></aside><aside class=\"widget_text widget inner-padding widget_custom_html\" id=\"custom_html-10\"><div class=\"textwidget custom-html-widget\"><a class=\"twitter-timeline\" data-height=\"550\" data-lang=\"en\" href=\"https://twitter.com/VacancyEdu?ref_src=twsrc%5Etfw\">Tweets by VacancyEdu</a> <script async=\"\" charset=\"utf-8\" data-minify=\"1\" src=\"https://vacancyedu.com/wp-content/cache/min/1/widgets.js?ver=1662973841\" type=\"rocketlazyloadscript\"></script></div></aside><aside class=\"widget_text widget inner-padding widget_custom_html\" id=\"custom_html-12\"><div class=\"textwidget custom-html-widget\"><script async=\"\" crossorigin=\"anonymous\" src=\"https://pagead2.googlesyndication.com/pagead/js/adsbygoogle.js?client=ca-pub-4660205951955648\" type=\"rocketlazyloadscript\"></script>\n",
       "<!-- Display Side Bar 02 edu -->\n",
       "<ins class=\"adsbygoogle\" data-ad-client=\"ca-pub-4660205951955648\" data-ad-format=\"auto\" data-ad-slot=\"7324776858\" data-full-width-responsive=\"true\" style=\"display:block\"></ins>\n",
       "<script type=\"rocketlazyloadscript\">\n",
       "     (adsbygoogle = window.adsbygoogle || []).push({});\n",
       "</script></div></aside><aside class=\"widget_text widget inner-padding widget_custom_html\" id=\"custom_html-13\"><div class=\"textwidget custom-html-widget\"></div></aside> </div>\n",
       "</div>\n",
       "</div>"
      ]
     },
     "execution_count": 15,
     "metadata": {},
     "output_type": "execute_result"
    }
   ],
   "source": [
    "content"
   ]
  },
  {
   "cell_type": "code",
   "execution_count": 19,
   "id": "d9439d19",
   "metadata": {},
   "outputs": [],
   "source": [
    "import re "
   ]
  },
  {
   "cell_type": "code",
   "execution_count": 20,
   "id": "b6926581",
   "metadata": {},
   "outputs": [],
   "source": [
    "# https://stackoverflow.com/questions/4000508/regex-that-will-capture-everything-between-two-characters-including-multiline-bl"
   ]
  },
  {
   "cell_type": "code",
   "execution_count": 21,
   "id": "c7f98012",
   "metadata": {},
   "outputs": [],
   "source": [
    "h2_tag = '<h2 style=\"text-align: justify;\"> </h2>'"
   ]
  },
  {
   "cell_type": "code",
   "execution_count": 47,
   "id": "a2f30f8e",
   "metadata": {},
   "outputs": [],
   "source": [
    "regex_pattern = r'<p style=\"text-align: justify;\"> </p>([\\s\\S]*?)<strong>View details &amp; Apply</strong></a></p>' "
   ]
  },
  {
   "cell_type": "code",
   "execution_count": 48,
   "id": "b2f34dc5",
   "metadata": {},
   "outputs": [
    {
     "data": {
      "text/plain": [
       "'<p style=\"text-align: justify;\">\\xa0</p>([\\\\s\\\\S]*?)<strong>View details &amp; Apply</strong></a></p>'"
      ]
     },
     "execution_count": 48,
     "metadata": {},
     "output_type": "execute_result"
    }
   ],
   "source": [
    "regex_pattern"
   ]
  },
  {
   "cell_type": "code",
   "execution_count": 49,
   "id": "e5619595",
   "metadata": {},
   "outputs": [],
   "source": [
    "matchs =  re.findall(regex_pattern, str(content)) "
   ]
  },
  {
   "cell_type": "code",
   "execution_count": 50,
   "id": "677247b7",
   "metadata": {},
   "outputs": [
    {
     "data": {
      "text/plain": [
       "11"
      ]
     },
     "execution_count": 50,
     "metadata": {},
     "output_type": "execute_result"
    }
   ],
   "source": [
    "len(matchs)"
   ]
  },
  {
   "cell_type": "code",
   "execution_count": 52,
   "id": "fcbd8fbb",
   "metadata": {},
   "outputs": [
    {
     "data": {
      "text/plain": [
       "'\\n<h3 style=\"text-align: justify;\">(02) PhD Degree – Fully Funded</h3>\\n<p style=\"text-align: justify;\"><strong>PhD position summary/title:</strong> Doctoral Researchers in Mathematics, Operations Research, and Statistics</p>\\n<p style=\"text-align: justify;\">Aalto University is where science and art meet technology and business. We shape a sustainable future by making research breakthroughs in and across our disciplines, sparking game changers of tomorrow and creating novel solutions to major global challenges. Our community is made up of 12 000 students, 400 professors and close to 4 000 other faculty and staff, mainly working on our dynamic Otaniemi campus in Espoo, Greater Helsinki, Finland. Diversity is part of who we are, and we actively work to ensure our community’s inclusiveness. We warmly encourage qualified candidates from all backgrounds to join our community.</p>\\n<p style=\"text-align: justify;\"><strong>Deadline :</strong> 31.1.2023</p>\\n<p style=\"text-align: justify;\"><a href=\"https://www.aalto.fi/en/open-positions/doctoral-researchers-in-mathematics-operations-research-and-statistics\" rel=\"noopener\" target=\"_blank\">'"
      ]
     },
     "execution_count": 52,
     "metadata": {},
     "output_type": "execute_result"
    }
   ],
   "source": []
  },
  {
   "cell_type": "code",
   "execution_count": 57,
   "id": "e07f5f42",
   "metadata": {},
   "outputs": [
    {
     "name": "stdout",
     "output_type": "stream",
     "text": [
      "(02) PhD Degree – Fully Funded\n",
      "PhD position summary/title: Doctoral Researchers in Mathematics, Operations Research, and Statistics\n",
      "Aalto University is where science and art meet technology and business. We shape a sustainable future by making research breakthroughs in and across our disciplines, sparking game changers of tomorrow and creating novel solutions to major global challenges. Our community is made up of 12 000 students, 400 professors and close to 4 000 other faculty and staff, mainly working on our dynamic Otaniemi campus in Espoo, Greater Helsinki, Finland. Diversity is part of who we are, and we actively work to ensure our community’s inclusiveness. We warmly encourage qualified candidates from all backgrounds to join our community.\n",
      "Deadline : 31.1.2023\n",
      "https://www.aalto.fi/en/open-positions/doctoral-researchers-in-mathematics-operations-research-and-statistics\n",
      "--------------------------------------------------\n",
      "(02) PhD Degree – Fully Funded\n",
      "PhD position summary/title: Doctoral Researchers in Mathematics, Operations Research, and Statistics\n",
      "Aalto University is where science and art meet technology and business. We shape a sustainable future by making research breakthroughs in and across our disciplines, sparking game changers of tomorrow and creating novel solutions to major global challenges. Our community is made up of 12 000 students, 400 professors and close to 4 000 other faculty and staff, mainly working on our dynamic Otaniemi campus in Espoo, Greater Helsinki, Finland. Diversity is part of who we are, and we actively work to ensure our community’s inclusiveness. We warmly encourage qualified candidates from all backgrounds to join our community.\n",
      "Deadline : 31.1.2023\n",
      "https://www.aalto.fi/en/open-positions/doctoral-researchers-in-mathematics-operations-research-and-statistics\n",
      "--------------------------------------------------\n",
      "(02) PhD Degree – Fully Funded\n",
      "PhD position summary/title: Doctoral Researchers in Mathematics, Operations Research, and Statistics\n",
      "Aalto University is where science and art meet technology and business. We shape a sustainable future by making research breakthroughs in and across our disciplines, sparking game changers of tomorrow and creating novel solutions to major global challenges. Our community is made up of 12 000 students, 400 professors and close to 4 000 other faculty and staff, mainly working on our dynamic Otaniemi campus in Espoo, Greater Helsinki, Finland. Diversity is part of who we are, and we actively work to ensure our community’s inclusiveness. We warmly encourage qualified candidates from all backgrounds to join our community.\n",
      "Deadline : 31.1.2023\n",
      "https://www.aalto.fi/en/open-positions/doctoral-researchers-in-mathematics-operations-research-and-statistics\n",
      "--------------------------------------------------\n",
      "(02) PhD Degree – Fully Funded\n",
      "PhD position summary/title: Doctoral Researchers in Mathematics, Operations Research, and Statistics\n",
      "Aalto University is where science and art meet technology and business. We shape a sustainable future by making research breakthroughs in and across our disciplines, sparking game changers of tomorrow and creating novel solutions to major global challenges. Our community is made up of 12 000 students, 400 professors and close to 4 000 other faculty and staff, mainly working on our dynamic Otaniemi campus in Espoo, Greater Helsinki, Finland. Diversity is part of who we are, and we actively work to ensure our community’s inclusiveness. We warmly encourage qualified candidates from all backgrounds to join our community.\n",
      "Deadline : 31.1.2023\n",
      "https://www.aalto.fi/en/open-positions/doctoral-researchers-in-mathematics-operations-research-and-statistics\n",
      "--------------------------------------------------\n",
      "(02) PhD Degree – Fully Funded\n",
      "PhD position summary/title: Doctoral Researchers in Mathematics, Operations Research, and Statistics\n",
      "Aalto University is where science and art meet technology and business. We shape a sustainable future by making research breakthroughs in and across our disciplines, sparking game changers of tomorrow and creating novel solutions to major global challenges. Our community is made up of 12 000 students, 400 professors and close to 4 000 other faculty and staff, mainly working on our dynamic Otaniemi campus in Espoo, Greater Helsinki, Finland. Diversity is part of who we are, and we actively work to ensure our community’s inclusiveness. We warmly encourage qualified candidates from all backgrounds to join our community.\n",
      "Deadline : 31.1.2023\n",
      "https://www.aalto.fi/en/open-positions/doctoral-researchers-in-mathematics-operations-research-and-statistics\n",
      "--------------------------------------------------\n",
      "(02) PhD Degree – Fully Funded\n",
      "PhD position summary/title: Doctoral Researchers in Mathematics, Operations Research, and Statistics\n",
      "Aalto University is where science and art meet technology and business. We shape a sustainable future by making research breakthroughs in and across our disciplines, sparking game changers of tomorrow and creating novel solutions to major global challenges. Our community is made up of 12 000 students, 400 professors and close to 4 000 other faculty and staff, mainly working on our dynamic Otaniemi campus in Espoo, Greater Helsinki, Finland. Diversity is part of who we are, and we actively work to ensure our community’s inclusiveness. We warmly encourage qualified candidates from all backgrounds to join our community.\n",
      "Deadline : 31.1.2023\n",
      "https://www.aalto.fi/en/open-positions/doctoral-researchers-in-mathematics-operations-research-and-statistics\n",
      "--------------------------------------------------\n",
      "(02) PhD Degree – Fully Funded\n",
      "PhD position summary/title: Doctoral Researchers in Mathematics, Operations Research, and Statistics\n",
      "Aalto University is where science and art meet technology and business. We shape a sustainable future by making research breakthroughs in and across our disciplines, sparking game changers of tomorrow and creating novel solutions to major global challenges. Our community is made up of 12 000 students, 400 professors and close to 4 000 other faculty and staff, mainly working on our dynamic Otaniemi campus in Espoo, Greater Helsinki, Finland. Diversity is part of who we are, and we actively work to ensure our community’s inclusiveness. We warmly encourage qualified candidates from all backgrounds to join our community.\n",
      "Deadline : 31.1.2023\n",
      "https://www.aalto.fi/en/open-positions/doctoral-researchers-in-mathematics-operations-research-and-statistics\n",
      "--------------------------------------------------\n",
      "(02) PhD Degree – Fully Funded\n",
      "PhD position summary/title: Doctoral Researchers in Mathematics, Operations Research, and Statistics\n",
      "Aalto University is where science and art meet technology and business. We shape a sustainable future by making research breakthroughs in and across our disciplines, sparking game changers of tomorrow and creating novel solutions to major global challenges. Our community is made up of 12 000 students, 400 professors and close to 4 000 other faculty and staff, mainly working on our dynamic Otaniemi campus in Espoo, Greater Helsinki, Finland. Diversity is part of who we are, and we actively work to ensure our community’s inclusiveness. We warmly encourage qualified candidates from all backgrounds to join our community.\n",
      "Deadline : 31.1.2023\n",
      "https://www.aalto.fi/en/open-positions/doctoral-researchers-in-mathematics-operations-research-and-statistics\n",
      "--------------------------------------------------\n",
      "(02) PhD Degree – Fully Funded\n",
      "PhD position summary/title: Doctoral Researchers in Mathematics, Operations Research, and Statistics\n",
      "Aalto University is where science and art meet technology and business. We shape a sustainable future by making research breakthroughs in and across our disciplines, sparking game changers of tomorrow and creating novel solutions to major global challenges. Our community is made up of 12 000 students, 400 professors and close to 4 000 other faculty and staff, mainly working on our dynamic Otaniemi campus in Espoo, Greater Helsinki, Finland. Diversity is part of who we are, and we actively work to ensure our community’s inclusiveness. We warmly encourage qualified candidates from all backgrounds to join our community.\n",
      "Deadline : 31.1.2023\n",
      "https://www.aalto.fi/en/open-positions/doctoral-researchers-in-mathematics-operations-research-and-statistics\n",
      "--------------------------------------------------\n",
      "(02) PhD Degree – Fully Funded\n",
      "PhD position summary/title: Doctoral Researchers in Mathematics, Operations Research, and Statistics\n",
      "Aalto University is where science and art meet technology and business. We shape a sustainable future by making research breakthroughs in and across our disciplines, sparking game changers of tomorrow and creating novel solutions to major global challenges. Our community is made up of 12 000 students, 400 professors and close to 4 000 other faculty and staff, mainly working on our dynamic Otaniemi campus in Espoo, Greater Helsinki, Finland. Diversity is part of who we are, and we actively work to ensure our community’s inclusiveness. We warmly encourage qualified candidates from all backgrounds to join our community.\n",
      "Deadline : 31.1.2023\n",
      "https://www.aalto.fi/en/open-positions/doctoral-researchers-in-mathematics-operations-research-and-statistics\n",
      "--------------------------------------------------\n",
      "(02) PhD Degree – Fully Funded\n",
      "PhD position summary/title: Doctoral Researchers in Mathematics, Operations Research, and Statistics\n",
      "Aalto University is where science and art meet technology and business. We shape a sustainable future by making research breakthroughs in and across our disciplines, sparking game changers of tomorrow and creating novel solutions to major global challenges. Our community is made up of 12 000 students, 400 professors and close to 4 000 other faculty and staff, mainly working on our dynamic Otaniemi campus in Espoo, Greater Helsinki, Finland. Diversity is part of who we are, and we actively work to ensure our community’s inclusiveness. We warmly encourage qualified candidates from all backgrounds to join our community.\n",
      "Deadline : 31.1.2023\n",
      "https://www.aalto.fi/en/open-positions/doctoral-researchers-in-mathematics-operations-research-and-statistics\n",
      "--------------------------------------------------\n"
     ]
    }
   ],
   "source": [
    "for position in matchs:\n",
    "\n",
    "    soup = BeautifulSoup(matchs[0], \"html.parser\")\n",
    "    print(soup.find(\"h3\").text)\n",
    "    \n",
    "    summary = [p for p in soup.find_all(\"p\")]\n",
    "    \n",
    "    [print(t.text) for t in summary[:-1]]\n",
    "    \n",
    "    print(summary[-1].a[\"href\"])\n",
    "    print(\"-\"*50)"
   ]
  },
  {
   "cell_type": "code",
   "execution_count": 53,
   "id": "fc9210ba",
   "metadata": {},
   "outputs": [],
   "source": []
  },
  {
   "cell_type": "code",
   "execution_count": 55,
   "id": "06c7be52",
   "metadata": {},
   "outputs": [
    {
     "data": {
      "text/plain": [
       "'(02) PhD Degree – Fully Funded'"
      ]
     },
     "execution_count": 55,
     "metadata": {},
     "output_type": "execute_result"
    }
   ],
   "source": [
    "soup.find('h3').text"
   ]
  },
  {
   "cell_type": "code",
   "execution_count": null,
   "id": "d5b5f8d4",
   "metadata": {},
   "outputs": [],
   "source": []
  },
  {
   "cell_type": "code",
   "execution_count": null,
   "id": "832b4a46",
   "metadata": {},
   "outputs": [],
   "source": []
  },
  {
   "cell_type": "code",
   "execution_count": null,
   "id": "dab50e30",
   "metadata": {},
   "outputs": [],
   "source": []
  }
 ],
 "metadata": {
  "kernelspec": {
   "display_name": "Python 3",
   "language": "python",
   "name": "python3"
  },
  "language_info": {
   "codemirror_mode": {
    "name": "ipython",
    "version": 3
   },
   "file_extension": ".py",
   "mimetype": "text/x-python",
   "name": "python",
   "nbconvert_exporter": "python",
   "pygments_lexer": "ipython3",
   "version": "3.9.12"
  },
  "vscode": {
   "interpreter": {
    "hash": "916dbcbb3f70747c44a77c7bcd40155683ae19c65e1c03b4aa3499c5328201f1"
   }
  }
 },
 "nbformat": 4,
 "nbformat_minor": 5
}
