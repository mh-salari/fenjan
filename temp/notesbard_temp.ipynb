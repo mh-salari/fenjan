{
 "cells": [
  {
   "cell_type": "code",
   "execution_count": 1,
   "id": "a09ab3b6",
   "metadata": {},
   "outputs": [],
   "source": [
    "# https://notesbard.com/find-fully-phd-programs/"
   ]
  },
  {
   "cell_type": "code",
   "execution_count": 1,
   "id": "f04c319f",
   "metadata": {},
   "outputs": [],
   "source": [
    "from bs4 import BeautifulSoup\n",
    "import requests"
   ]
  },
  {
   "cell_type": "code",
   "execution_count": null,
   "id": "6e7c0b00",
   "metadata": {},
   "outputs": [],
   "source": []
  },
  {
   "cell_type": "code",
   "execution_count": 14,
   "id": "dd54f443",
   "metadata": {},
   "outputs": [
    {
     "name": "stdout",
     "output_type": "stream",
     "text": [
      "Finding url of all phd programs advertised in the first page\n"
     ]
    }
   ],
   "source": [
    "print(\"Finding url of all phd programs advertised in the first page\")\n",
    "bace_url = \"https://notesbard.com/find-fully-phd-programs/\"\n",
    "r = requests.get(bace_url)\n",
    "if r.status_code != 200:\n",
    "    raise Exception(f\"Request Error: {r.status_code}\")\n",
    "\n"
   ]
  },
  {
   "cell_type": "code",
   "execution_count": 15,
   "id": "e3fce3bb",
   "metadata": {},
   "outputs": [],
   "source": [
    "posts = BeautifulSoup(r.text, \"html.parser\").find_all(\"div\", {\"class\", \"elementor-post__card\"})\n"
   ]
  },
  {
   "cell_type": "code",
   "execution_count": 44,
   "id": "bbbc950b",
   "metadata": {},
   "outputs": [],
   "source": [
    "from datetime import datetime, timedelta\n",
    "# https://www.digitalocean.com/community/tutorials/python-string-to-datetime-strptime"
   ]
  },
  {
   "cell_type": "code",
   "execution_count": 31,
   "id": "e5b00a97",
   "metadata": {},
   "outputs": [],
   "source": [
    "date_string = posts[0].find(\"div\", {\"class\", \"elementor-post__meta-data\"}).text.strip()"
   ]
  },
  {
   "cell_type": "code",
   "execution_count": 32,
   "id": "e9ccd326",
   "metadata": {},
   "outputs": [
    {
     "data": {
      "text/plain": [
       "'October 15, 2022'"
      ]
     },
     "execution_count": 32,
     "metadata": {},
     "output_type": "execute_result"
    }
   ],
   "source": [
    "date_string"
   ]
  },
  {
   "cell_type": "code",
   "execution_count": 40,
   "id": "ad30b79e",
   "metadata": {},
   "outputs": [],
   "source": [
    "today = datetime.today()"
   ]
  },
  {
   "cell_type": "code",
   "execution_count": 38,
   "id": "552764b6",
   "metadata": {},
   "outputs": [],
   "source": [
    "date = datetime.strptime(date_string, \"%B %d, %Y\")"
   ]
  },
  {
   "cell_type": "code",
   "execution_count": 51,
   "id": "78763ce4",
   "metadata": {},
   "outputs": [
    {
     "data": {
      "text/plain": [
       "True"
      ]
     },
     "execution_count": 51,
     "metadata": {},
     "output_type": "execute_result"
    }
   ],
   "source": [
    "date_delta = 60\n",
    "date > today - timedelta(days=date_delta)"
   ]
  },
  {
   "cell_type": "code",
   "execution_count": 50,
   "id": "7b087532",
   "metadata": {},
   "outputs": [
    {
     "data": {
      "text/plain": [
       "datetime.datetime(2022, 11, 6, 2, 11, 49, 631874)"
      ]
     },
     "execution_count": 50,
     "metadata": {},
     "output_type": "execute_result"
    }
   ],
   "source": [
    "today - timedelta(days=date_delta)"
   ]
  },
  {
   "cell_type": "raw",
   "id": "864b5a30",
   "metadata": {},
   "source": [
    "url = urls[0]"
   ]
  },
  {
   "cell_type": "code",
   "execution_count": 8,
   "id": "d993b6fa",
   "metadata": {},
   "outputs": [],
   "source": [
    "r = requests.get(url)\n",
    "if r.status_code != 200:\n",
    "    raise Exception(f\"Request Error: {r.status_code}\")"
   ]
  },
  {
   "cell_type": "code",
   "execution_count": 11,
   "id": "a587ed75",
   "metadata": {},
   "outputs": [],
   "source": [
    "soup = BeautifulSoup(r.text, \"html.parser\")"
   ]
  },
  {
   "cell_type": "code",
   "execution_count": 20,
   "id": "6c8a55ac",
   "metadata": {},
   "outputs": [],
   "source": [
    "content = soup.find(id=\"content\")"
   ]
  },
  {
   "cell_type": "code",
   "execution_count": 21,
   "id": "d9439d19",
   "metadata": {},
   "outputs": [],
   "source": [
    "import re "
   ]
  },
  {
   "cell_type": "code",
   "execution_count": 106,
   "id": "b6926581",
   "metadata": {},
   "outputs": [],
   "source": [
    "# https://stackoverflow.com/questions/4000508/regex-that-will-capture-everything-between-two-characters-including-multiline-bl"
   ]
  },
  {
   "cell_type": "code",
   "execution_count": 81,
   "id": "a2f30f8e",
   "metadata": {},
   "outputs": [],
   "source": [
    "regex_pattern = r'<h1 style=\"text-align: justify;\">([\\s\\S]*?)<p> </p>' "
   ]
  },
  {
   "cell_type": "code",
   "execution_count": 82,
   "id": "e5619595",
   "metadata": {},
   "outputs": [],
   "source": [
    "matchs =  re.findall(regex_pattern, str(content)) "
   ]
  },
  {
   "cell_type": "code",
   "execution_count": 83,
   "id": "677247b7",
   "metadata": {},
   "outputs": [
    {
     "data": {
      "text/plain": [
       "24"
      ]
     },
     "execution_count": 83,
     "metadata": {},
     "output_type": "execute_result"
    }
   ],
   "source": [
    "len(matchs)"
   ]
  },
  {
   "cell_type": "code",
   "execution_count": 100,
   "id": "e07f5f42",
   "metadata": {},
   "outputs": [
    {
     "name": "stdout",
     "output_type": "stream",
     "text": [
      "1. PhD position – Optimal control theory for full-stack superconducting quantum processor\n",
      "Summary of PhD Program:\n",
      "The Peter Grünberg Institute for Quantum Control (PGI-8) at the Forschungszentrum Jülich specializes in novel optimization strategies for emerging quantum technologies. These emerging technologies aim to provide transformative changes to our society, including how we think about information, and unlocking vast calculations for the natural sciences, logistical problem solving, and high-performance computation. Our group has pioneered the application of quantum optimal control methods to quantum computation and many-body quantum systems. This includes the development of physical models and model reduction techniques as well as algorithmic advances of in-situ optimization and machine learning to tackle the complex processes inherent to scalable quantum devices.\n",
      "Last Application Date: Open Until Filled\n",
      "--------------------------------------------------\n",
      "2. PhD Position – Environmental fate of Bioplastics in Soils\n",
      "Summary of PhD Program:\n",
      "The main focus of this PhD position is to examine the environmental behavior and fate of bioplastics in soils. Soils are one of key entry pathways in which bioplastics enter various vulnerable ecosystems. The project will focus on what happens to bioplastics once they have entered the soil, and crucially how the subsequent fate of the bioplastic is determining by soils and wider environmental factors (substrate, weather, physico-chemical and microbial status etc.). The project is part of a large research consortium looking into “Transitioning BioPlastics to the Circular Economy”.\n",
      "Last Application Date: Open Until Filled\n",
      "--------------------------------------------------\n",
      "3. PhD Position – Organic Electrochemistry: Catalyzed Synthesis of Value-added Compounds\n",
      "Summary of PhD Program:\n",
      "You will be part of the Electrocatalysis research department, which research area is an investigation of fundamental aspects of the electrolyte-electrode interface during applied processes of reversible interconversion of electrical and chemical energy. The department’s scientific interests are aimed on the development of an efficient methodology for the electrochemical transformation of readily available feedstock to value-added products.\n",
      " Organic electrosynthesis, as nowadays proven powerful tool for preparation of substances of desired composition, has been recently added to the profile of scientific interests of the department. Commonly used offline analytical methods are found to be insufficient in the testing of variety of catalytic materials, therefore in the department of Electrocatalysis, a unique platform for online (real-time) analysis of electrochemical processes is developed, providing a powerful analytical support for the conducted research.\n",
      "Last Application Date: 16.10.2022\n",
      "--------------------------------------------------\n",
      "4. PhD position – Influence of interfaces in solid state Lithium-Ion Batteries their performance\n",
      "Summary of PhD Program:\n",
      "Nowadays, Lithium-Ion batteries are inevitable in our daily life. But still, safety hazards remain an issue and incidents of burning electric vehicles and laptops are reported. The main reason for this is the usage of inflammable organic liquid electrolytes. Solid state electrolytes provide the option to increase not only the safety, but also the long term stability and energy density. The challenge in solid state batteries are the interfaces, as a solid-solid contact is more difficult to maintain during cycling. The interfaces are exposed to mechanical stress but also chemical reactions and diffusion may occur.\n",
      "Last Application Date: 25.10.2022\n",
      "--------------------------------------------------\n",
      "5. PhD position – Applied hydrologic sciences\n",
      "Summary of PhD Program:\n",
      "The BMBF funded OrganoRice project aims to support the production of organically produced rice in the Mekong Delta of Vietnam. Therefore, an interdisciplinary team analyses the current state of the economic, social, and environmental conditions, monitors changes during the transition from conventional to organic rice production and will provide recommendation for future planning. The successful candidate will analyze pesticide residues in irrigation water and paddy rice fields in the landscape to provide information about the current pesticide background and will monitor pesticide concentrations in soil and water after transition to organic rice production.\n",
      "Last Application Date: 15.11.2022\n",
      "--------------------------------------------------\n",
      "6. PhD position – Non-destructive detection of nitrate in soils\n",
      "Summary of PhD Program:\n",
      "The work will be conducted in the project “Non-invasive sensing of soil state variables and root zones for the use in root-soil models (SoilRootRadar)”. Within this project, we aim at developing new methods for quantifying nitrate (NO3-) content of soils non-destructively using a unique combination of techniques. You will work in a team with other PhD students of the same and other related projects. \n",
      "Last Application Date: Open Until Filled\n",
      "--------------------------------------------------\n",
      "7. PhD position – Nutrient cycling in terrestrial ecosystems \n",
      "Summary of PhD Program:\n",
      "In a current project we are aiming to model a forest ecosystem based on long-term and experimental data. In general, nutrient cycling in forest ecosystems includes nutrient inputs (litter production and decomposition, atmospheric deposition, weathering of primary minerals), nutrient uptake and storage in vegetation, changes of nutrient speciation, and nutrient export (leaching from soil, gaseous transfers, export by erosion). \n",
      "We will therefore develop a holistic model able to cope with the water and nutrient fluxes, storage and release of C, N, and P, and forest growth. The new model will be an extension of AgroC, developed in IBG-3, to simulate forest stands. Additionally, we aim at investigating the contribution of colloidal transport of elements in nutrient cycling as this is still scarcely explored and not covered by modeling.\n",
      " Understanding controls of colloid transport, especially after major events like heavy rain, is elementary to integrate particle transport into numerical modeling, which in turn is indispensable for describing and predicting elemental fluxes of critical nutrients in ecosystems.\n",
      "Last Application Date: Open Until Filled\n",
      "--------------------------------------------------\n",
      "8. PhD position – Nutrient cycling and transport modelling in terrestrial ecosystems\n",
      "Summary of PhD Program:\n",
      "In a current project we are aiming to model a forest ecosystem based on long-term and experimental data. In general, nutrient cycling in forest ecosystems includes nutrient inputs (litter production and decomposition, atmospheric deposition, weathering of primary minerals), nutrient uptake and storage in vegetation, changes of nutrient speciation, and nutrient export (leaching from soil, gaseous transfers, export by erosion). We will therefore develop a holistic model able to cope with the water and nutrient fluxes, storage and release of C, N, and P, and forest growth. \n",
      "The new model will be an extension of AgroC, developed in IBG-3, to simulate forest stands. Additionally, we aim at investigating the contribution of colloidal transport of elements in nutrient cycling as this is still scarcely explored and not covered by modeling. Understanding controls of colloid transport, especially after major events like heavy rain, is elementary to integrate particle transport into numerical modeling, which in turn is indispensable for describing and predicting elemental fluxes of critical nutrients in ecosystems.\n",
      "Last Application Date: Open Until Filled\n",
      "--------------------------------------------------\n",
      "9. PhD position – Ecosystem functioning simulations\n",
      "Summary of PhD Program:\n",
      "In a current project we are aiming to model a forest ecosystem based on long-term and experimental data. In general, nutrient cycling in forest ecosystems includes nutrient inputs (litter production and decomposition, atmospheric deposition, weathering of primary minerals), nutrient uptake and storage in vegetation, changes of nutrient speciation, and nutrient export (leaching from soil, gaseous transfers). We will therefore develop a holistic model able to cope with the water and nutrient fluxes, storage and release of C, N, and P, and forest growth. The new model will be an extension of AgroC, developed in IBG-3, to simulate forest stands.\n",
      "Last Application Date: Open Until Filled\n",
      "--------------------------------------------------\n",
      "10. PhD position – In-situ transmission electron microscopy study of carbon dioxide reduction reaction catalysts\n",
      "Summary of PhD Program:\n",
      "Efficient catalyst materials hold the key for a breakthrough in future energy conversion and storage. The carbon dioxide reduction reaction (CO2RR) is an important process for the conversion of the greenhouse gas CO2 into industrially relevant basic chemicals. Copper-based catalysts have been demonstrated to show high activity in CO2RR. Alloying or incorporating other elements such as gold or silver changes their selectivity. The catalytic performance depends strongly on the catalyst´s microstructural properties. You will be working on the development, electrochemical, and microstructural characterization of advanced Cu-based CO2RR nanoparticle catalysts.\n",
      "Last Application Date: Open Until Filled\n",
      "--------------------------------------------------\n",
      "11. PhD position – Improving the stability and efficiency of suspension plasma spraying\n",
      "Summary of PhD Program:\n",
      "You are working in a publicly funded collaborative project with a German university. The goal is the targeted improvement of the stability and efficiency of the suspension plasma spraying process by means of adapted diagnostic methods. The particular difficulty in adapting these methods for suspension plasma spraying lies in the high local and temporal resolution required, the separation of the individual plasmas, and the selection of the radiation from the droplets/particles. In addition, the deposition conditions will be investigated to identify mechanisms affecting the layer properties. The deposition efficiency is another important aspect.\n",
      "Last Application Date: 13.11.2022\n",
      "--------------------------------------------------\n",
      "12. PhD Position – Nanoscale study of superconductors for qubits\n",
      "Summary of PhD Program:\n",
      "We look for excellent candidates who are interested in experimental work on the fundamental physics and materials science of superconductors. Samples will be fabricated by our collaborators within QSolid, as well as our own laboratories and will be analyzed using our state-of-the-art low-temperature scanning tunneling and atomic force microscopes.\n",
      "Last Application Date: Open Until Filled\n",
      "--------------------------------------------------\n",
      "13. PhD Position – The role of CO2 as a resource in a global greenhouse gas-neutral energy system\n",
      "Summary of PhD Program:\n",
      "Support us in providing orientation knowledge for politics, industry and society for the success of the energy transition by contributing to the further development of our energy system models. Your main task will be the integration of CO2 process chains into our global energy system model based on the FINE model framework. A particular focus will be on the use in power-to-liquid products as well as possible CO2 sources in a greenhouse gas neutral energy system.\n",
      "Last Application Date: Open Until Filled\n",
      "--------------------------------------------------\n",
      "14. PhD Position – High Dimensional Multi Omics Data Integration\n",
      "Summary of PhD Program:\n",
      "Your project has the aim to develop novel (interactive) workflow tools for high dimensional data integration and data mining. The data used should comprise multiple omics disciplines e.g. transcripts, metabolites and epigenetic sig-nals. Currently many analyses comprise ad-hoc methods or “standard” procedures that are disjunct. \n",
      "Last Application Date: Open Until Filled\n",
      "--------------------------------------------------\n",
      "15. PhD Position – Photonics based on SiGeSn heterostructures\n",
      "Summary of PhD Program:\n",
      "The integration of photonics components with electronics on the same microchip may potentially solve the bandwidth bottleneck in modern computers and allow devices with decreased power consumption. Nevertheless, light emission from Si -the material underpinning the whole digital world- is inefficient because of its indirect bandgap. Recently SiGeSn semiconductors, a Si-group alloys proved to be a strong candidate to finally add/extend the Si photonics with Si-based laser sources. Si-Ge-Sn heterostructures have been already tested in optoelectronic devices such as light emitting diodes, field effect transistors or detection pixels in the short-wave infrared range. However, energy efficient electrical pumped lasers, and more complex sensing and imaging devices are still to be demonstrated for practical applications.\n",
      "Last Application Date: Open Until Filled\n",
      "--------------------------------------------------\n",
      "16. PhD Position – Chemical mechanism development of atmospheric VOC degradation aided by pattern analysis of high-resolution mass spectrometric data\n",
      "Summary of PhD Program:\n",
      "At the Institute for Energy and Climate Research, Troposphere (IEK-8), we investigate the chemical and physical processes in the troposphere that impact the chemical composition of the atmosphere. Organic compounds impact the air quality and climate change. Their oxidation chemistry leads to highly oxygenated organic molecules (HOM) and secondary organic aerosol (SOA) formation. We explore photochemical degradation of organic compounds by applying chemical ionization mass spectrometry. The high resolution mass spectrometry provides a multitude of simultaneous information about the oxidized organic species evolving in the degradation process.\n",
      "Last Application Date: Open Until Filled\n",
      "--------------------------------------------------\n",
      "17. PhD-Position – Development of scalable superconducting quantum systems\n",
      "Summary of PhD Program:\n",
      "The mission of the newly founded Institute for Functional Quantum Systems (PGI-13) is to create the technological and scientific basis to enable useful quantum computing. We focus on developing quantum devices, improving their coherence and materials, and implementing quantum gates and algorithms. We use superconducting qubits that operate at temperatures close to absolute zero and are controlled by high-speed signals. A key requirement is to preserve high quality quantum operations as we scale. Overcoming these exciting challenges lies at the interface between scientific research and engineering.\n",
      "Last Application Date: Open Until Filled\n",
      "--------------------------------------------------\n",
      "18. PhD Position – Development of new UHV Technologies for the “Einstein Telescope for Graviational Waves Detection”\n",
      "Summary of PhD Program:\n",
      "Gravitational waves from colliding black holes, exploding stars or maybe from dark ages of the universe tell us about the evolution of our cosmos. Following the Nobel Prize in physics of 2017, we are now planning the next generation of even more sensitive observations. The so-called “Einstein-Telescope” (ET) is European`s future in gravitational wave detection. It might be built in the Euregio. \n",
      "Gravitational waves are detected by laser interferometers based on the concept of the Michelson Interferometer. The ET will include six of those interferometers with arm lengths of 10 km each in an underground, triangular configuration. To avoid interaction of the laser beams with air or any residual gas the laser beams will travel in ultrahigh vacuum tubes (UHV) with a diameter of approximately 1 m. In total, there will be 120 km of those tubes. It will be by far the largest UHV system ever built. You will work on the design of the vacuum system.\n",
      "Last Application Date: Open Until Filled\n",
      "View Details & Apply\n",
      "Our team is working on electronics for Quantum Computing (QC) based on integrated circuits (ICs) which combine analog and digital components from modern CMOS technologies. One research focus is the development of ICs for scalable control and read-out of semiconductor quantum bits (qubits). Up to now most of these electronics have been for single qubit examples but are getting towards larger numbers. \n",
      "Our modeling efforts focus more on the overall research goal of a compact, scalable machine. For implementing a computer, additional hardware components are needed next to control and readout electronics. One example is a digital unit managing and monitoring the control and readout of many qubits. The focus of this research part is the modeling of a scalable electrical unit able to coordinate the operation of larger qubit numbers.\n",
      "Last Application Date: Open Until Filled\n",
      "--------------------------------------------------\n",
      "20. PhD Position – Computational investigation of ion channels and transporters\n",
      "Summary of PhD Program:\n",
      "Using a combination of molecular simulations, patch-clamp electrophysiology, and molecular biology, the Computational Neurophysiology group of Jan-Philipp Machtens at the Institute of Biological Information Processing 1 investigate the structure-dynamics-function relationships of physiologically and clinically important membrane proteins. Furthermore, we study pathologic alterations of these proteins towards novel strategies to pharmacologically correct protein and cell function under disease conditions. The PhD project will focus on permeation and selectivity mechanisms in ion channels, mechanisms of ligand and voltage activation, or functional principles of thermodynamically coupled transporters.\n",
      "Last Application Date: Open Until Filled\n",
      "View Details & Apply\n",
      "This project is focused on utilizing electrochemical methods for understanding how ion transport can be influenced by incident light. In particular, the project will focus on electrode materials that are amenable to light-induced ion (de)intercalation. A combination of light- and potential-modulated methods will be necessary to elucidate the charge-transfer and ion transport kinetics in such systems. The goal is to attain a better fundamental understanding about how light-generated excitons can influence ion transport in electrode materials.\n",
      "Last Application Date: Open Until Filled\n",
      "--------------------------------------------------\n",
      "22. PhD Position – Metaplasticity of redox-based memristive thin film devices\n",
      "Summary of PhD Program:\n",
      "The PGI-7 is involved in a Marie-Curie training network “Materials for Neuromorphic Circuits” (MANIC) (https://etnmanic.eu/) that is aiming to synthesize materials that can function as networks of neurons and synapses by integrating conductivity, plasticity and self-organization. Within MANIC, the PGI-7 offers a PhD project that aims to engineer the synaptic plasticity of epitaxial and polycrystalline memristive oxide thin film devices from short-term plasticity to long-term potentiation. This so called metaplasticity inherent to biological systems will be employed to implement different types of learning algorithms. \n",
      "The plasticity will be modified by the interplay of thin film processing conditions (defects, interfaces) and the sequence of electrical stimuli. The project should clarify the interplay between pristine microstructure, filament formation, dynamics of oxygen vacancy movement and synaptic plasticity. The memristive devices will finally be co-integrated into a neuromorphic CMOS chip designed at Bielefeld University.\n",
      "Last Application Date: Open Until Filled\n",
      "--------------------------------------------------\n",
      "23. PhD Position – Model Compression, Transfer Learning and Local Learning for Large Scale AI\n",
      "Summary of PhD Program:\n",
      "Very large-scale neural networks and their transfer or distillation to specific problems are key to enable the widespread application of AI technologies. Training, maintaining and distilling large scale models is a very challenging task, requiring huge computational resources. However, the brain is a comparatively large neural network, and yet is able to learn and update its model of the world in an energy-efficient, local, and online manner. \n",
      "Research at the Peter Grünberg Institute – Neuromorphic Hardware Nodes (PGI-14) and the Peter Grünberg Institute – Neuromorphic Software Eco Systems (PGI-15) aims to design computing algorithms and hardware architectures inspired by the biological brain, thereby closing the gap between the computational abilities of modern computers and those of the brain. To expand this research to large scale transferable models and enable their compression towards brain-inspired hardware, PGI-14 and PGI-15 led by Prof. Dr. John Paul Strachan and Prof. Dr. Emre Neftci are seeking a PhD student. You will be jointly employed at PGI-14 and PGI-15.\n",
      "Last Application Date: Open Until Filled\n",
      "--------------------------------------------------\n",
      "24. PhD Position – Neuromorphic Hardware for Event-based Computing at the Edge \n",
      "Summary of PhD Program:\n",
      "The Peter Grünberg Institute – Neuromorphic Software Eco Systems (PGI-15) led by Prof. Dr. Emre Neftci explores neuromorphic computing technologies that learn and work like the brain. Our research team designs computing algorithms and architectures from the perspective of Neuroscience and physical realizations in dedicated circuits and devices. Applications of our research are targeted to improve computing in many areas, including computer vision, autonomous control, data processing in mobile and wearable devices, and (neuro-)scientific data analysis.\n",
      "Last Application Date: Open Until Filled\n",
      "--------------------------------------------------\n",
      "25. PhD Position – Development of a stationary 3D tomography measurement system for high-resolution surveying of soils using georadar\n",
      "Summary of PhD Program:\n",
      "Against the background of global challenges such as climate change and the growing world population, Forschungszentrum Jülich is conducting research with a view to optimizing yields, improving soil and water conservation, and minimizing the impact of climate change. This requires a detailed understanding of the flow and transport processes in soils, as well as the dynamic development of root growth. One of several established measurement methods for such applications in geophysics is georadar. \n",
      "Georadar operates in the frequency range from about 200 to 2000 MHz. The coupling into the ground is done with antennas and is therefore non-invasive. In this way, characteristic soil properties such as electrical and dielectric conductivity can be determined. In cooperation with the Institute of Agrosphere (IBG-3), a novel measurement system with a large number of antennas is being developed, which enables high-resolution three-dimensional tomography of undisturbed soil columns.\n",
      "Last Application Date: Open Until Filled\n",
      "--------------------------------------------------\n",
      "26. PhD Position – Neuromorphic Engineering / Computing \n",
      "Summary of PhD Program:\n",
      "There are multiple openings for new PhD students interested in the co-design of neuromorphic circuits and systems with novel algorithms. You will work in a diverse team, targeting societally relevant computing applications to build more energy-efficient technologies to tackle them.c\n",
      "Last Application Date: Open Until Filled\n",
      "--------------------------------------------------\n"
     ]
    }
   ],
   "source": [
    "for position in matchs:\n",
    "\n",
    "    soup = BeautifulSoup('<h1 style=\"text-align: justify;\">'+position, \"html.parser\")\n",
    "    print(soup.find(\"h1\").text)\n",
    "    print(soup.find(\"h2\").text)\n",
    "    \n",
    "    summary = [p for p in soup.find_all(\"p\")]\n",
    "    \n",
    "    [print(t.text) for t in summary[:-1]]\n",
    "    print(\"-\"*50)"
   ]
  },
  {
   "cell_type": "code",
   "execution_count": 95,
   "id": "fc9210ba",
   "metadata": {},
   "outputs": [
    {
     "data": {
      "text/plain": [
       "'1. PhD position – Optimal control theory for full-stack superconducting quantum processor'"
      ]
     },
     "execution_count": 95,
     "metadata": {},
     "output_type": "execute_result"
    }
   ],
   "source": []
  },
  {
   "cell_type": "code",
   "execution_count": 96,
   "id": "06c7be52",
   "metadata": {},
   "outputs": [
    {
     "data": {
      "text/plain": [
       "'Summary of PhD Program:'"
      ]
     },
     "execution_count": 96,
     "metadata": {},
     "output_type": "execute_result"
    }
   ],
   "source": []
  },
  {
   "cell_type": "code",
   "execution_count": 93,
   "id": "d5b5f8d4",
   "metadata": {},
   "outputs": [
    {
     "data": {
      "text/plain": [
       "['The Peter Grünberg Institute for Quantum Control (PGI-8) at the Forschungszentrum Jülich specializes in novel optimization strategies for emerging quantum technologies. These emerging technologies aim to provide transformative changes to our society, including how we think about information, and unlocking vast calculations for the natural sciences, logistical problem solving, and high-performance computation. Our group has pioneered the application of quantum optimal control methods to quantum computation and many-body quantum systems. This includes the development of physical models and model reduction techniques as well as algorithmic advances of in-situ optimization and machine learning to tackle the complex processes inherent to scalable quantum devices.',\n",
       " 'Last Application Date: Open Until Filled',\n",
       " 'View Details & Apply']"
      ]
     },
     "execution_count": 93,
     "metadata": {},
     "output_type": "execute_result"
    }
   ],
   "source": []
  },
  {
   "cell_type": "code",
   "execution_count": 105,
   "id": "832b4a46",
   "metadata": {},
   "outputs": [
    {
     "data": {
      "text/plain": [
       "'https://www.fz-juelich.de/en/careers/jobs/2022D-089'"
      ]
     },
     "execution_count": 105,
     "metadata": {},
     "output_type": "execute_result"
    }
   ],
   "source": [
    "summary[-1].a[\"href\"]"
   ]
  },
  {
   "cell_type": "code",
   "execution_count": null,
   "id": "dab50e30",
   "metadata": {},
   "outputs": [],
   "source": []
  }
 ],
 "metadata": {
  "kernelspec": {
   "display_name": "Python 3",
   "language": "python",
   "name": "python3"
  },
  "language_info": {
   "codemirror_mode": {
    "name": "ipython",
    "version": 3
   },
   "file_extension": ".py",
   "mimetype": "text/x-python",
   "name": "python",
   "nbconvert_exporter": "python",
   "pygments_lexer": "ipython3",
   "version": "3.9.12"
  },
  "vscode": {
   "interpreter": {
    "hash": "916dbcbb3f70747c44a77c7bcd40155683ae19c65e1c03b4aa3499c5328201f1"
   }
  }
 },
 "nbformat": 4,
 "nbformat_minor": 5
}
