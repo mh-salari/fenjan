{
 "cells": [
  {
   "cell_type": "raw",
   "id": "5e786659",
   "metadata": {},
   "source": [
    "https://www.geeksforgeeks.org/scrape-linkedin-using-selenium-and-beautiful-soup-in-python/\n",
    "https://stackoverflow.com/questions/64717302/deprecationwarning-executable-path-has-been-deprecated-selenium-python\n",
    "https://stackoverflow.com/questions/32391303/how-to-scroll-to-the-end-of-the-page-using-selenium-in-python"
   ]
  },
  {
   "cell_type": "code",
   "execution_count": null,
   "id": "e4297350",
   "metadata": {},
   "outputs": [],
   "source": []
  },
  {
   "cell_type": "code",
   "execution_count": null,
   "id": "c7c34b55",
   "metadata": {},
   "outputs": [],
   "source": [
    "from bs4 import BeautifulSoup\n",
    "import time\n",
    " \n",
    "from selenium import webdriver\n",
    "from selenium.webdriver.chrome.options import Options\n",
    "from selenium.webdriver.chrome.service import Service\n",
    "from webdriver_manager.chrome import ChromeDriverManager\n",
    "\n",
    "from tqdm.notebook import tqdm\n",
    "\n",
    "from utils.send_email import send_email"
   ]
  },
  {
   "cell_type": "code",
   "execution_count": null,
   "id": "324b0d55",
   "metadata": {},
   "outputs": [],
   "source": [
    "from utils.phd_keywords import phd_keywords\n",
    "\n",
    "import os\n",
    "from dotenv import load_dotenv"
   ]
  },
  {
   "cell_type": "code",
   "execution_count": null,
   "id": "711884e0",
   "metadata": {},
   "outputs": [],
   "source": []
  },
  {
   "cell_type": "code",
   "execution_count": null,
   "id": "d513d68f",
   "metadata": {},
   "outputs": [],
   "source": [
    "def make_driver():\n",
    "    options = Options()\n",
    "    # options.add_argument(\"--headless\")\n",
    "    options.add_argument(\"--no-sandbox\")\n",
    "    options.add_argument(\"--disable-dev-shm-usage\")\n",
    "\n",
    "    driver = webdriver.Chrome(\n",
    "        service=Service(ChromeDriverManager().install()), options=options\n",
    "    )\n",
    "\n",
    "    return driver"
   ]
  },
  {
   "cell_type": "code",
   "execution_count": null,
   "id": "3e635f64",
   "metadata": {},
   "outputs": [],
   "source": [
    "def login_to_linkedin(driver): \n",
    "    email =  os.environ[\"LINKEDIN_EMAIL_ADDRESS\"]\n",
    "    password =  os.environ[\"LINKEDIN_PASSWORD\"]\n",
    "    \n",
    "    driver.get(\"https://linkedin.com/uas/login\")\n",
    "    time.sleep(5)\n",
    "    username = driver.find_element(\"id\", \"username\")\n",
    "    username.send_keys(email)  \n",
    "    pword = driver.find_element(\"id\", \"password\")\n",
    "    pword.send_keys(password)      \n",
    "    driver.find_element(\"xpath\", \"//button[@type='submit']\").click()    "
   ]
  },
  {
   "cell_type": "code",
   "execution_count": null,
   "id": "0ef20850",
   "metadata": {},
   "outputs": [],
   "source": [
    "def find_positions(driver, phd_keywords):\n",
    "    positions = []\n",
    "    for keyword in tqdm(phd_keywords[:]):\n",
    "        url = f'https://www.linkedin.com/search/results/content/?datePosted=%22past-24h%22&keywords=\"{keyword}\"&origin=FACETED_SEARCH&sid=c%3Bi&sortBy=%22date_posted%22'\n",
    "        driver.get(url)\n",
    "        time.sleep(5)\n",
    "        for _ in range(10):\n",
    "            driver.execute_script(\"window.scrollTo(0, document.body.scrollHeight);\")\n",
    "            time.sleep(6)\n",
    "\n",
    "        src = driver.page_source\n",
    "        soup = BeautifulSoup(src, 'lxml')\n",
    "\n",
    "        search_results = soup.find('main', {'aria-label': 'Search results'})\n",
    "\n",
    "        positions += search_results.find_all('div', {'class': 'update-components-text relative feed-shared-update-v2__commentary'}) \n",
    "        \n",
    "    return positions"
   ]
  },
  {
   "cell_type": "code",
   "execution_count": null,
   "id": "05b47675",
   "metadata": {},
   "outputs": [],
   "source": [
    "def clean_the_results(positions, position_keywords):\n",
    "    results = []\n",
    "    for position in positions:\n",
    "        if any(item.lower() in position.text.lower() for item in position_keywords):\n",
    "            results.append(position.text)    \n",
    "    return results"
   ]
  },
  {
   "cell_type": "code",
   "execution_count": null,
   "id": "6ff694e7",
   "metadata": {},
   "outputs": [],
   "source": [
    "load_dotenv() "
   ]
  },
  {
   "cell_type": "code",
   "execution_count": null,
   "id": "e7c928f8",
   "metadata": {},
   "outputs": [],
   "source": [
    "driver = make_driver()"
   ]
  },
  {
   "cell_type": "code",
   "execution_count": null,
   "id": "e1905f0b",
   "metadata": {},
   "outputs": [],
   "source": [
    "login_to_linkedin(driver)"
   ]
  },
  {
   "cell_type": "code",
   "execution_count": null,
   "id": "e2e26794",
   "metadata": {},
   "outputs": [],
   "source": [
    "url = f'https://www.linkedin.com/search/results/content/?datePosted=%22past-24h%22&keywords=\"{phd_keywords[0]}\"&origin=FACETED_SEARCH&sid=c%3Bi&sortBy=%22date_posted%22'\n",
    "driver.get(url)"
   ]
  },
  {
   "cell_type": "code",
   "execution_count": 186,
   "id": "621b3bf9",
   "metadata": {},
   "outputs": [],
   "source": [
    "src = driver.page_source\n",
    "soup = BeautifulSoup(src, 'lxml')"
   ]
  },
  {
   "cell_type": "code",
   "execution_count": 187,
   "id": "3f3b8493",
   "metadata": {},
   "outputs": [],
   "source": [
    "search_results = soup.find('main', {'aria-label': 'Search results'})"
   ]
  },
  {
   "cell_type": "code",
   "execution_count": 188,
   "id": "63bcc4d9",
   "metadata": {},
   "outputs": [],
   "source": [
    "with open('search_results.txt', 'w') as f:\n",
    "    f.write(str(search_results))"
   ]
  },
  {
   "cell_type": "code",
   "execution_count": 189,
   "id": "6e69bc3f",
   "metadata": {},
   "outputs": [],
   "source": [
    "_positions = []"
   ]
  },
  {
   "cell_type": "code",
   "execution_count": 190,
   "id": "8dbf56a7",
   "metadata": {},
   "outputs": [],
   "source": [
    "_positions += search_results.find_all('div', {'class': 'update-components-text relative feed-shared-update-v2__commentary'}) \n"
   ]
  },
  {
   "cell_type": "code",
   "execution_count": 198,
   "id": "3ea08398",
   "metadata": {},
   "outputs": [],
   "source": [
    "positions = [position.text.strip() for position in _positions]"
   ]
  },
  {
   "cell_type": "code",
   "execution_count": 199,
   "id": "ee3c7749",
   "metadata": {},
   "outputs": [],
   "source": [
    "urn_a = search_results.find_all('div', {'class': 'feed-shared-update-v2 feed-shared-update-v2--minimal-padding full-height relative feed-shared-update-v2--e2e artdeco-card'}) "
   ]
  },
  {
   "cell_type": "code",
   "execution_count": 200,
   "id": "ab3dc59c",
   "metadata": {},
   "outputs": [],
   "source": [
    "urn_b = search_results.find_all('div', {'class': 'feed-shared-update-v2 feed-shared-update-v2--minimal-padding full-height relative artdeco-card'}) "
   ]
  },
  {
   "cell_type": "code",
   "execution_count": 201,
   "id": "b9c2750c",
   "metadata": {},
   "outputs": [
    {
     "data": {
      "text/plain": [
       "32"
      ]
     },
     "execution_count": 201,
     "metadata": {},
     "output_type": "execute_result"
    }
   ],
   "source": [
    "len(urn_a)"
   ]
  },
  {
   "cell_type": "code",
   "execution_count": 205,
   "id": "e7078079",
   "metadata": {},
   "outputs": [],
   "source": [
    "position_b = []\n",
    "for urn in urn_a + urn_b:\n",
    "    try:\n",
    "        position_text = urn.find('div', {'class': 'update-components-text relative feed-shared-update-v2__commentary'}).text.strip()\n",
    "        if position_text:\n",
    "            positions[positions.index(position_text)] = f'{position_text}\\nhttps://www.linkedin.com/feed/update/{urn[\"data-urn\"]}'\n",
    "    except:\n",
    "        pass"
   ]
  },
  {
   "cell_type": "code",
   "execution_count": 206,
   "id": "617dccc2",
   "metadata": {},
   "outputs": [
    {
     "data": {
      "text/plain": [
       "51"
      ]
     },
     "execution_count": 206,
     "metadata": {},
     "output_type": "execute_result"
    }
   ],
   "source": []
  },
  {
   "cell_type": "code",
   "execution_count": 211,
   "id": "26fce4d2",
   "metadata": {},
   "outputs": [
    {
     "name": "stdout",
     "output_type": "stream",
     "text": [
      "Hi everyone,   I'm pleased to tell you about the following opportunity. Please share the information about this AHRC fully funded PhD in the form of a Collaborative Doctoral Award (CDA), now available via the Northern Bridge Consortium (NBC) Doctoral Training Partnership.  Mapping and Interpreting 90 years of Illustrating and Writing Childhood in the Collection of Seven Stories: The National Centre for Children's Books.  This PhD project will explore changing historical cultural constructions of childhood in books for children, making creative responses to these constructions, and looking at contemporary children's understanding of them. The context is the Seven Stories collection, a major, unique primary resource incorporating material from c.1930 to date, including original artwork and writing by key creators such as Edward Ardizzone, Judith Kerr, Yasmeen Ismail and Nick Sharratt. It will map and respond to key changes in the illustration and writing of childhood in children's books through cultural analysis and creative practice, exploring changing materials, techniques and technologies, and the interaction and collaboration between those involved in the production process.  The PhD candidate will map cultural constructions of childhood during the historical period the collection covers and make creative responses to the materials via practical experimentation regarding illustration and writing in children's books. This will indicate how adults creating books for children depicted and understood childhood and what techniques and practices were involved. Further, the candidate's creative responses will become a stimulus for contemporary children's understanding of children's books, creativity and historical childhoods, so sharing research findings beyond academia.  We are seeking a candidate with a background in Cultural Studies, Childhood Studies or related disciplines who has experience as a creative writer and illustrator. The candidate will be able to work with specialist staff at Seven Stories in archival work, outreach and exhibition curation. Supervision will involve guidance from experts on children's books and other media, and the creation of illustrated poetry, illustrated books and picture books.   To apply please prepare; a) a 2-page CV,  b) a short sample (up to 2,000 words) of creative written work,  (Note: this can be combined with c) in the form of a draft sample from a picturebook, comic, or illustrated book) c) a PDF portfolio including five to six pieces of indicative artwork,  (Note: this can be combined with b) in the form of a draft sample from a picturebook, comic, or illustrated book) d) a personal statement of no more than 1000 words indicating preparedness for this project and setting out the contribution that will be made.   More in a following post!\n",
      "https://www.linkedin.com/feed/update/urn:li:activity:7005489643873779712\n"
     ]
    }
   ],
   "source": [
    "print(positions[-10])"
   ]
  },
  {
   "cell_type": "code",
   "execution_count": 154,
   "id": "09843869",
   "metadata": {},
   "outputs": [
    {
     "name": "stdout",
     "output_type": "stream",
     "text": [
      "220 funded PhD positions in various departments at Ulster University UKDetail: https://lnkd.in/gxi3nsSbBachelor, Master, PhD, Postdoctoral Fellowship and academic and non academic opportunities at one place, join telegram for more opportunitieshttps://lnkd.in/eQ-v3iRD#research #students #opportunities #project #highereducation #university #science #phd #education #stem #innovation #email #cv #interview #universities #hiring #recuiting #career #masters #gra #graduaterecruitment #scholarship #graduate #research #students #opportunities #project #highereducation #university #science #postdoctoral #postdoc #postdocposition #postdoctoralfellowship #SVacademicconsultancy #Academic #consultancyservice #consultancy #academicresearch #academicwriter\n"
     ]
    }
   ],
   "source": [
    "print(positions[3])"
   ]
  },
  {
   "cell_type": "code",
   "execution_count": 161,
   "id": "f16710df",
   "metadata": {},
   "outputs": [
    {
     "data": {
      "text/plain": [
       "95"
      ]
     },
     "execution_count": 161,
     "metadata": {},
     "output_type": "execute_result"
    }
   ],
   "source": [
    "len(set(positions+position_b))"
   ]
  },
  {
   "cell_type": "code",
   "execution_count": null,
   "id": "43c208fd",
   "metadata": {},
   "outputs": [],
   "source": [
    "positions = find_positions(driver, phd_keywords[:])"
   ]
  },
  {
   "cell_type": "code",
   "execution_count": null,
   "id": "5dedda80",
   "metadata": {},
   "outputs": [],
   "source": [
    "results = clean_the_results(positions, position_keywords)"
   ]
  },
  {
   "cell_type": "code",
   "execution_count": null,
   "id": "a648b059",
   "metadata": {},
   "outputs": [],
   "source": [
    "len(positions)"
   ]
  },
  {
   "cell_type": "code",
   "execution_count": null,
   "id": "9e9f02a5",
   "metadata": {},
   "outputs": [],
   "source": [
    "    email_text = \"\"\n",
    "    for result in set(results):\n",
    "        email_text+=result.strip() + \"\\n\" + \"-\"*50 + \"\\n\"\n",
    "        print(result.strip())\n",
    "        print(\"-\"*50, \"\\n\")\n"
   ]
  },
  {
   "cell_type": "code",
   "execution_count": null,
   "id": "3625b932",
   "metadata": {},
   "outputs": [],
   "source": [
    "    if email_text != \"\":\n",
    "        send_email(\"hue.salari@gmail.com\", \"Phd positions\", email_text, \"plain\")"
   ]
  },
  {
   "cell_type": "code",
   "execution_count": null,
   "id": "35a963ec",
   "metadata": {},
   "outputs": [],
   "source": []
  }
 ],
 "metadata": {
  "kernelspec": {
   "display_name": "Python 3 (ipykernel)",
   "language": "python",
   "name": "python3"
  },
  "language_info": {
   "codemirror_mode": {
    "name": "ipython",
    "version": 3
   },
   "file_extension": ".py",
   "mimetype": "text/x-python",
   "name": "python",
   "nbconvert_exporter": "python",
   "pygments_lexer": "ipython3",
   "version": "3.10.8"
  }
 },
 "nbformat": 4,
 "nbformat_minor": 5
}
